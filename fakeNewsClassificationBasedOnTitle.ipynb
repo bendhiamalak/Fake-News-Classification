{
  "nbformat": 4,
  "nbformat_minor": 0,
  "metadata": {
    "colab": {
      "provenance": []
    },
    "kernelspec": {
      "name": "python3",
      "display_name": "Python 3"
    },
    "language_info": {
      "name": "python"
    }
  },
  "cells": [
    {
      "cell_type": "code",
      "source": [
        "! pip install kaggle"
      ],
      "metadata": {
        "colab": {
          "base_uri": "https://localhost:8080/"
        },
        "id": "LA5acFdC77yb",
        "outputId": "fd5a9f8a-4147-4729-ec72-3378e39515ae"
      },
      "execution_count": 2,
      "outputs": [
        {
          "output_type": "stream",
          "name": "stdout",
          "text": [
            "Requirement already satisfied: kaggle in /usr/local/lib/python3.11/dist-packages (1.6.17)\n",
            "Requirement already satisfied: six>=1.10 in /usr/local/lib/python3.11/dist-packages (from kaggle) (1.17.0)\n",
            "Requirement already satisfied: certifi>=2023.7.22 in /usr/local/lib/python3.11/dist-packages (from kaggle) (2025.1.31)\n",
            "Requirement already satisfied: python-dateutil in /usr/local/lib/python3.11/dist-packages (from kaggle) (2.8.2)\n",
            "Requirement already satisfied: requests in /usr/local/lib/python3.11/dist-packages (from kaggle) (2.32.3)\n",
            "Requirement already satisfied: tqdm in /usr/local/lib/python3.11/dist-packages (from kaggle) (4.67.1)\n",
            "Requirement already satisfied: python-slugify in /usr/local/lib/python3.11/dist-packages (from kaggle) (8.0.4)\n",
            "Requirement already satisfied: urllib3 in /usr/local/lib/python3.11/dist-packages (from kaggle) (2.3.0)\n",
            "Requirement already satisfied: bleach in /usr/local/lib/python3.11/dist-packages (from kaggle) (6.2.0)\n",
            "Requirement already satisfied: webencodings in /usr/local/lib/python3.11/dist-packages (from bleach->kaggle) (0.5.1)\n",
            "Requirement already satisfied: text-unidecode>=1.3 in /usr/local/lib/python3.11/dist-packages (from python-slugify->kaggle) (1.3)\n",
            "Requirement already satisfied: charset-normalizer<4,>=2 in /usr/local/lib/python3.11/dist-packages (from requests->kaggle) (3.4.1)\n",
            "Requirement already satisfied: idna<4,>=2.5 in /usr/local/lib/python3.11/dist-packages (from requests->kaggle) (3.10)\n"
          ]
        }
      ]
    },
    {
      "cell_type": "code",
      "source": [
        "from google.colab import drive\n",
        "drive.mount('/content/drive')"
      ],
      "metadata": {
        "colab": {
          "base_uri": "https://localhost:8080/"
        },
        "id": "IXHJPbCH8Cce",
        "outputId": "1af9aed9-62fe-4053-a76d-867abcfbde1e"
      },
      "execution_count": 3,
      "outputs": [
        {
          "output_type": "stream",
          "name": "stdout",
          "text": [
            "Mounted at /content/drive\n"
          ]
        }
      ]
    },
    {
      "cell_type": "code",
      "source": [
        "! mkdir ~/.kaggle"
      ],
      "metadata": {
        "id": "ZfrlJHUVA8mY"
      },
      "execution_count": 4,
      "outputs": []
    },
    {
      "cell_type": "code",
      "source": [
        "! cp /content/drive/MyDrive/kaggle.json ~/.kaggle/kaggle.json"
      ],
      "metadata": {
        "id": "-BUv1uJHBVEW"
      },
      "execution_count": 5,
      "outputs": []
    },
    {
      "cell_type": "code",
      "source": [
        "! chmod 600 ~/.kaggle/kaggle.json"
      ],
      "metadata": {
        "id": "5Itc9XvLBycH"
      },
      "execution_count": 6,
      "outputs": []
    },
    {
      "cell_type": "code",
      "source": [
        "! kaggle datasets download saurabhshahane/fake-news-classification"
      ],
      "metadata": {
        "colab": {
          "base_uri": "https://localhost:8080/"
        },
        "id": "1jW1gZr8DHvg",
        "outputId": "ca75311b-e96a-4010-b245-964bcb66b66c"
      },
      "execution_count": 7,
      "outputs": [
        {
          "output_type": "stream",
          "name": "stdout",
          "text": [
            "Dataset URL: https://www.kaggle.com/datasets/saurabhshahane/fake-news-classification\n",
            "License(s): Attribution 4.0 International (CC BY 4.0)\n",
            "Downloading fake-news-classification.zip to /content\n",
            " 89% 82.0M/92.1M [00:00<00:00, 192MB/s]\n",
            "100% 92.1M/92.1M [00:00<00:00, 152MB/s]\n"
          ]
        }
      ]
    },
    {
      "cell_type": "code",
      "source": [
        "! unzip fake-news-classification.zip"
      ],
      "metadata": {
        "colab": {
          "base_uri": "https://localhost:8080/"
        },
        "id": "vmtEAklrDeUZ",
        "outputId": "74cf5996-eb69-4941-f04b-e42754d2620d"
      },
      "execution_count": 9,
      "outputs": [
        {
          "output_type": "stream",
          "name": "stdout",
          "text": [
            "Archive:  fake-news-classification.zip\n",
            "replace WELFake_Dataset.csv? [y]es, [n]o, [A]ll, [N]one, [r]ename: "
          ]
        }
      ]
    },
    {
      "cell_type": "code",
      "source": [
        "import pandas as pd\n",
        "import matplotlib.pyplot as plt\n",
        "import seaborn as sns\n",
        "\n",
        "import nltk\n",
        "import re\n",
        "from nltk.corpus import wordnet\n",
        "from sklearn.model_selection import train_test_split\n",
        "from sklearn.feature_extraction.text import TfidfVectorizer\n",
        "\n",
        "nltk.download('stopwords')\n",
        "nltk.download('wordnet')"
      ],
      "metadata": {
        "colab": {
          "base_uri": "https://localhost:8080/"
        },
        "id": "ve5-Qp8DxFaq",
        "outputId": "0a0f3dbf-45eb-48f6-de7c-55114f9f9c67"
      },
      "execution_count": 10,
      "outputs": [
        {
          "output_type": "stream",
          "name": "stderr",
          "text": [
            "[nltk_data] Downloading package stopwords to /root/nltk_data...\n",
            "[nltk_data]   Package stopwords is already up-to-date!\n",
            "[nltk_data] Downloading package wordnet to /root/nltk_data...\n",
            "[nltk_data]   Package wordnet is already up-to-date!\n"
          ]
        },
        {
          "output_type": "execute_result",
          "data": {
            "text/plain": [
              "True"
            ]
          },
          "metadata": {},
          "execution_count": 10
        }
      ]
    },
    {
      "cell_type": "code",
      "source": [
        "import pandas as pd\n",
        "df=pd.read_csv(\"WELFake_Dataset.csv\")\n",
        "df_0=df[df['label']==0].sample(5000)\n",
        "df_1=df[df['label']==1].sample(5000)\n",
        "df=pd.concat([df_0, df_1])\n",
        "df.head()"
      ],
      "metadata": {
        "colab": {
          "base_uri": "https://localhost:8080/",
          "height": 293
        },
        "id": "aR7OHztfxLzl",
        "outputId": "2d7a3a19-23f9-4978-a010-6218130e2bbc"
      },
      "execution_count": 12,
      "outputs": [
        {
          "output_type": "execute_result",
          "data": {
            "text/plain": [
              "       Unnamed: 0                                              title  \\\n",
              "1017         1017  Indonesia foreign minister flies to Bangladesh...   \n",
              "25562       25562  Islamic State claims responsibility for suicid...   \n",
              "62021       62021  Senator seeks explanation for career U.S. pros...   \n",
              "48907       48907  Trump taps retired general, TV analyst for NSC...   \n",
              "52663       52663  Obama's EU envoy says Brexiteer Farage mislead...   \n",
              "\n",
              "                                                    text  label  \n",
              "1017   DHAKA (Reuters) - Indonesia s foreign minister...      0  \n",
              "25562  BAGHDAD (Reuters) - Islamic State has claimed ...      0  \n",
              "62021  WASHINGTON (Reuters) - A Democratic Senator sa...      0  \n",
              "48907  (Reuters) - U.S. President-elect Donald Trump ...      0  \n",
              "52663  BRUSSELS (Reuters) - Barack Obama’s envoy to B...      0  "
            ],
            "text/html": [
              "\n",
              "  <div id=\"df-be944c24-7bf2-4c5a-b7d2-039d844a6b24\" class=\"colab-df-container\">\n",
              "    <div>\n",
              "<style scoped>\n",
              "    .dataframe tbody tr th:only-of-type {\n",
              "        vertical-align: middle;\n",
              "    }\n",
              "\n",
              "    .dataframe tbody tr th {\n",
              "        vertical-align: top;\n",
              "    }\n",
              "\n",
              "    .dataframe thead th {\n",
              "        text-align: right;\n",
              "    }\n",
              "</style>\n",
              "<table border=\"1\" class=\"dataframe\">\n",
              "  <thead>\n",
              "    <tr style=\"text-align: right;\">\n",
              "      <th></th>\n",
              "      <th>Unnamed: 0</th>\n",
              "      <th>title</th>\n",
              "      <th>text</th>\n",
              "      <th>label</th>\n",
              "    </tr>\n",
              "  </thead>\n",
              "  <tbody>\n",
              "    <tr>\n",
              "      <th>1017</th>\n",
              "      <td>1017</td>\n",
              "      <td>Indonesia foreign minister flies to Bangladesh...</td>\n",
              "      <td>DHAKA (Reuters) - Indonesia s foreign minister...</td>\n",
              "      <td>0</td>\n",
              "    </tr>\n",
              "    <tr>\n",
              "      <th>25562</th>\n",
              "      <td>25562</td>\n",
              "      <td>Islamic State claims responsibility for suicid...</td>\n",
              "      <td>BAGHDAD (Reuters) - Islamic State has claimed ...</td>\n",
              "      <td>0</td>\n",
              "    </tr>\n",
              "    <tr>\n",
              "      <th>62021</th>\n",
              "      <td>62021</td>\n",
              "      <td>Senator seeks explanation for career U.S. pros...</td>\n",
              "      <td>WASHINGTON (Reuters) - A Democratic Senator sa...</td>\n",
              "      <td>0</td>\n",
              "    </tr>\n",
              "    <tr>\n",
              "      <th>48907</th>\n",
              "      <td>48907</td>\n",
              "      <td>Trump taps retired general, TV analyst for NSC...</td>\n",
              "      <td>(Reuters) - U.S. President-elect Donald Trump ...</td>\n",
              "      <td>0</td>\n",
              "    </tr>\n",
              "    <tr>\n",
              "      <th>52663</th>\n",
              "      <td>52663</td>\n",
              "      <td>Obama's EU envoy says Brexiteer Farage mislead...</td>\n",
              "      <td>BRUSSELS (Reuters) - Barack Obama’s envoy to B...</td>\n",
              "      <td>0</td>\n",
              "    </tr>\n",
              "  </tbody>\n",
              "</table>\n",
              "</div>\n",
              "    <div class=\"colab-df-buttons\">\n",
              "\n",
              "  <div class=\"colab-df-container\">\n",
              "    <button class=\"colab-df-convert\" onclick=\"convertToInteractive('df-be944c24-7bf2-4c5a-b7d2-039d844a6b24')\"\n",
              "            title=\"Convert this dataframe to an interactive table.\"\n",
              "            style=\"display:none;\">\n",
              "\n",
              "  <svg xmlns=\"http://www.w3.org/2000/svg\" height=\"24px\" viewBox=\"0 -960 960 960\">\n",
              "    <path d=\"M120-120v-720h720v720H120Zm60-500h600v-160H180v160Zm220 220h160v-160H400v160Zm0 220h160v-160H400v160ZM180-400h160v-160H180v160Zm440 0h160v-160H620v160ZM180-180h160v-160H180v160Zm440 0h160v-160H620v160Z\"/>\n",
              "  </svg>\n",
              "    </button>\n",
              "\n",
              "  <style>\n",
              "    .colab-df-container {\n",
              "      display:flex;\n",
              "      gap: 12px;\n",
              "    }\n",
              "\n",
              "    .colab-df-convert {\n",
              "      background-color: #E8F0FE;\n",
              "      border: none;\n",
              "      border-radius: 50%;\n",
              "      cursor: pointer;\n",
              "      display: none;\n",
              "      fill: #1967D2;\n",
              "      height: 32px;\n",
              "      padding: 0 0 0 0;\n",
              "      width: 32px;\n",
              "    }\n",
              "\n",
              "    .colab-df-convert:hover {\n",
              "      background-color: #E2EBFA;\n",
              "      box-shadow: 0px 1px 2px rgba(60, 64, 67, 0.3), 0px 1px 3px 1px rgba(60, 64, 67, 0.15);\n",
              "      fill: #174EA6;\n",
              "    }\n",
              "\n",
              "    .colab-df-buttons div {\n",
              "      margin-bottom: 4px;\n",
              "    }\n",
              "\n",
              "    [theme=dark] .colab-df-convert {\n",
              "      background-color: #3B4455;\n",
              "      fill: #D2E3FC;\n",
              "    }\n",
              "\n",
              "    [theme=dark] .colab-df-convert:hover {\n",
              "      background-color: #434B5C;\n",
              "      box-shadow: 0px 1px 3px 1px rgba(0, 0, 0, 0.15);\n",
              "      filter: drop-shadow(0px 1px 2px rgba(0, 0, 0, 0.3));\n",
              "      fill: #FFFFFF;\n",
              "    }\n",
              "  </style>\n",
              "\n",
              "    <script>\n",
              "      const buttonEl =\n",
              "        document.querySelector('#df-be944c24-7bf2-4c5a-b7d2-039d844a6b24 button.colab-df-convert');\n",
              "      buttonEl.style.display =\n",
              "        google.colab.kernel.accessAllowed ? 'block' : 'none';\n",
              "\n",
              "      async function convertToInteractive(key) {\n",
              "        const element = document.querySelector('#df-be944c24-7bf2-4c5a-b7d2-039d844a6b24');\n",
              "        const dataTable =\n",
              "          await google.colab.kernel.invokeFunction('convertToInteractive',\n",
              "                                                    [key], {});\n",
              "        if (!dataTable) return;\n",
              "\n",
              "        const docLinkHtml = 'Like what you see? Visit the ' +\n",
              "          '<a target=\"_blank\" href=https://colab.research.google.com/notebooks/data_table.ipynb>data table notebook</a>'\n",
              "          + ' to learn more about interactive tables.';\n",
              "        element.innerHTML = '';\n",
              "        dataTable['output_type'] = 'display_data';\n",
              "        await google.colab.output.renderOutput(dataTable, element);\n",
              "        const docLink = document.createElement('div');\n",
              "        docLink.innerHTML = docLinkHtml;\n",
              "        element.appendChild(docLink);\n",
              "      }\n",
              "    </script>\n",
              "  </div>\n",
              "\n",
              "\n",
              "<div id=\"df-60f7aabd-125c-4f34-9925-83fe8372be3d\">\n",
              "  <button class=\"colab-df-quickchart\" onclick=\"quickchart('df-60f7aabd-125c-4f34-9925-83fe8372be3d')\"\n",
              "            title=\"Suggest charts\"\n",
              "            style=\"display:none;\">\n",
              "\n",
              "<svg xmlns=\"http://www.w3.org/2000/svg\" height=\"24px\"viewBox=\"0 0 24 24\"\n",
              "     width=\"24px\">\n",
              "    <g>\n",
              "        <path d=\"M19 3H5c-1.1 0-2 .9-2 2v14c0 1.1.9 2 2 2h14c1.1 0 2-.9 2-2V5c0-1.1-.9-2-2-2zM9 17H7v-7h2v7zm4 0h-2V7h2v10zm4 0h-2v-4h2v4z\"/>\n",
              "    </g>\n",
              "</svg>\n",
              "  </button>\n",
              "\n",
              "<style>\n",
              "  .colab-df-quickchart {\n",
              "      --bg-color: #E8F0FE;\n",
              "      --fill-color: #1967D2;\n",
              "      --hover-bg-color: #E2EBFA;\n",
              "      --hover-fill-color: #174EA6;\n",
              "      --disabled-fill-color: #AAA;\n",
              "      --disabled-bg-color: #DDD;\n",
              "  }\n",
              "\n",
              "  [theme=dark] .colab-df-quickchart {\n",
              "      --bg-color: #3B4455;\n",
              "      --fill-color: #D2E3FC;\n",
              "      --hover-bg-color: #434B5C;\n",
              "      --hover-fill-color: #FFFFFF;\n",
              "      --disabled-bg-color: #3B4455;\n",
              "      --disabled-fill-color: #666;\n",
              "  }\n",
              "\n",
              "  .colab-df-quickchart {\n",
              "    background-color: var(--bg-color);\n",
              "    border: none;\n",
              "    border-radius: 50%;\n",
              "    cursor: pointer;\n",
              "    display: none;\n",
              "    fill: var(--fill-color);\n",
              "    height: 32px;\n",
              "    padding: 0;\n",
              "    width: 32px;\n",
              "  }\n",
              "\n",
              "  .colab-df-quickchart:hover {\n",
              "    background-color: var(--hover-bg-color);\n",
              "    box-shadow: 0 1px 2px rgba(60, 64, 67, 0.3), 0 1px 3px 1px rgba(60, 64, 67, 0.15);\n",
              "    fill: var(--button-hover-fill-color);\n",
              "  }\n",
              "\n",
              "  .colab-df-quickchart-complete:disabled,\n",
              "  .colab-df-quickchart-complete:disabled:hover {\n",
              "    background-color: var(--disabled-bg-color);\n",
              "    fill: var(--disabled-fill-color);\n",
              "    box-shadow: none;\n",
              "  }\n",
              "\n",
              "  .colab-df-spinner {\n",
              "    border: 2px solid var(--fill-color);\n",
              "    border-color: transparent;\n",
              "    border-bottom-color: var(--fill-color);\n",
              "    animation:\n",
              "      spin 1s steps(1) infinite;\n",
              "  }\n",
              "\n",
              "  @keyframes spin {\n",
              "    0% {\n",
              "      border-color: transparent;\n",
              "      border-bottom-color: var(--fill-color);\n",
              "      border-left-color: var(--fill-color);\n",
              "    }\n",
              "    20% {\n",
              "      border-color: transparent;\n",
              "      border-left-color: var(--fill-color);\n",
              "      border-top-color: var(--fill-color);\n",
              "    }\n",
              "    30% {\n",
              "      border-color: transparent;\n",
              "      border-left-color: var(--fill-color);\n",
              "      border-top-color: var(--fill-color);\n",
              "      border-right-color: var(--fill-color);\n",
              "    }\n",
              "    40% {\n",
              "      border-color: transparent;\n",
              "      border-right-color: var(--fill-color);\n",
              "      border-top-color: var(--fill-color);\n",
              "    }\n",
              "    60% {\n",
              "      border-color: transparent;\n",
              "      border-right-color: var(--fill-color);\n",
              "    }\n",
              "    80% {\n",
              "      border-color: transparent;\n",
              "      border-right-color: var(--fill-color);\n",
              "      border-bottom-color: var(--fill-color);\n",
              "    }\n",
              "    90% {\n",
              "      border-color: transparent;\n",
              "      border-bottom-color: var(--fill-color);\n",
              "    }\n",
              "  }\n",
              "</style>\n",
              "\n",
              "  <script>\n",
              "    async function quickchart(key) {\n",
              "      const quickchartButtonEl =\n",
              "        document.querySelector('#' + key + ' button');\n",
              "      quickchartButtonEl.disabled = true;  // To prevent multiple clicks.\n",
              "      quickchartButtonEl.classList.add('colab-df-spinner');\n",
              "      try {\n",
              "        const charts = await google.colab.kernel.invokeFunction(\n",
              "            'suggestCharts', [key], {});\n",
              "      } catch (error) {\n",
              "        console.error('Error during call to suggestCharts:', error);\n",
              "      }\n",
              "      quickchartButtonEl.classList.remove('colab-df-spinner');\n",
              "      quickchartButtonEl.classList.add('colab-df-quickchart-complete');\n",
              "    }\n",
              "    (() => {\n",
              "      let quickchartButtonEl =\n",
              "        document.querySelector('#df-60f7aabd-125c-4f34-9925-83fe8372be3d button');\n",
              "      quickchartButtonEl.style.display =\n",
              "        google.colab.kernel.accessAllowed ? 'block' : 'none';\n",
              "    })();\n",
              "  </script>\n",
              "</div>\n",
              "\n",
              "    </div>\n",
              "  </div>\n"
            ],
            "application/vnd.google.colaboratory.intrinsic+json": {
              "type": "dataframe",
              "variable_name": "df",
              "summary": "{\n  \"name\": \"df\",\n  \"rows\": 10000,\n  \"fields\": [\n    {\n      \"column\": \"Unnamed: 0\",\n      \"properties\": {\n        \"dtype\": \"number\",\n        \"std\": 20835,\n        \"min\": 23,\n        \"max\": 72106,\n        \"num_unique_values\": 10000,\n        \"samples\": [\n          55213,\n          59251,\n          32550\n        ],\n        \"semantic_type\": \"\",\n        \"description\": \"\"\n      }\n    },\n    {\n      \"column\": \"title\",\n      \"properties\": {\n        \"dtype\": \"string\",\n        \"num_unique_values\": 9746,\n        \"samples\": [\n          \"Relentless Media Censorship Is Brining Us A Fate Worse Than Big Brother\",\n          \"Pentagon chief, Saudi deputy crown prince discuss fight against Islamic State\",\n          \"La OTAN est\\u00e1 vigilando dos buques de la Armada rusa en el B\\u00e1ltico\"\n        ],\n        \"semantic_type\": \"\",\n        \"description\": \"\"\n      }\n    },\n    {\n      \"column\": \"text\",\n      \"properties\": {\n        \"dtype\": \"string\",\n        \"num_unique_values\": 9732,\n        \"samples\": [\n          \"WASHINGTON (Reuters) - The FBI and U.S. Justice Department are investigating possible U.S. ties to alleged corruption involving the former president of Ukraine, including the work of firms headed by political operatives Paul Manafort and Tony Podesta, CNN reported on Friday, citing multiple U.S. law enforcement officials. The broad-based investigation was looking into whether U.S. companies and the financial system were used to enable corruption by the party of former pro-Russian Ukrainian president Viktor Yanukovych, CNN said. A person who answered a telephone number for Manafort said Manafort was not available for comment. The person, who said he was an associate of Manafort and who gave his name only as David, referred queries to a lawyer in Washington, who did not immediately respond to a phone call and an email. In response to a report in the New York Times on Monday, Manafort denied any impropriety in a statement. \\u201cI have never received a single \\u2018off-the-books cash payment\\u2019 as falsely \\u2018reported\\u2019 by The New York Times, nor have I ever done work for the governments of Ukraine or Russia,\\u201d he said. The New York Times reported that he had received cash payments worth more than $12 million over five years that were itemized on secret ledgers belonging to Yanukovich\\u2019s Party of Regions. Manafort, who resigned as chairman of Republican presidential nominee Donald Trump\\u2019s campaign on Friday, had not been the focus of the probe, CNN said, citing the officials. The probe was looking at the work of other firms linked to the former Ukrainian government, including the Podesta Group, a lobbying and public relations company headed by Tony Podesta, whose brother John Podesta is chairman of the campaign to elect Democratic Party presidential nominee Hillary Clinton. Manafort\\u2019s attorney Richard Hibey did not immediately respond to a request for comment. The FBI declined to comment, CNN reported. The Podesta Group has hired an independent legal firm to investigate whether it had been misled by the Centre for a Modern Ukraine, a not-for-profit group linked to the ousted Ukrainian government, a spokeswoman for the group said in a statement. The Justice Department, asked to comment on the report, said it remained \\u201ccommitted to helping recover stolen assets on behalf of the people of Ukraine.\\u201d  Investigators in Ukraine have said Yanukovych and his party engaged in widespread corruption. He fled to Russia following a popular uprising in 2014. \",\n          \"WASHINGTON - Democratic presidential front-runner Hillary Clinton rebuked Senate Republicans on Monday for denying a hearing to U.S. Supreme Court nominee Merrick Garland, accusing them of obstructionism, and warned of dangers if Donald Trump appointed the next justice. In a speech in Wisconsin, Clinton put the future of the Supreme Court at the center of the election debate, cautioning that any Trump-appointed justices would be likely to roll back workers\\u2019 and abortion rights and \\u201cdemolish pillars of the progressive movement.\\u201d \\u201cWhat kind of justice would a President Trump appoint, or for that matter what kind of attorney general?\\u201d she asked, noting the Republican front-runner wants a temporary ban on Muslims entering the country and the deportation of millions of undocumented immigrants. \\u201cOnce you make the extreme normal, you open the door to even worse,\\u201d she said in Madison, Wisconsin, as part of a two-day trip to the state ahead of its April 5 Democratic and Republican primary elections. Clinton called on Republican Chuck Grassley, chairman of the Senate Judiciary Committee, to \\u201cdo his job\\u201d and convene a hearing for Garland, a moderate federal appeals judge who is President Barack Obama\\u2019s nominee to fill the seat vacated by the Feb. 13 death of Antonin Scalia. Grassley and other Senate Republicans have said they will not hold a hearing or a vote on an Obama nominee in a presidential election year, contending that voters should have a say when they elect the next president on Nov. 8. \\u201cI\\u2019d say my voice is being ignored right now because of their obstructionism,\\u201d Clinton said. \\u201cWe chose a president \\u2014 we chose him twice \\u2014 and now Republicans in the Senate are acting like our votes didn\\u2019t count and President Obama is not still our nation\\u2019s leader.\\u201d Clinton said the Republican refusal to consider Garland was the \\u201clatest in a long line of actions aimed at disrupting our government and undermining our president, and the result is an America that is more divided, less functional and less secure.\\u201d Grassley, a six-term senator from Iowa who has tangled with Clinton over the investigation into her use of a private e-mail account while secretary of state, responded that Clinton wanted to distract voters from the ongoing email investigations. \\u201cThis is simply a blatant attempt by Secretary Clinton to politicize the Supreme Court and to change the conversation,\\u201d Grassley, who heads the committee that must hold hearings on any Supreme Court nominee, said in a statement ahead of Clinton\\u2019s speech. Clinton has apologized for the email arrangement, which is being investigated by the Federal Bureau of Investigation and has been slammed by Republicans for potentially compromising security. Clinton has said she did nothing wrong and she believes the government will vindicate her. Garland traveled to Capitol Hill on Monday to meet with Democratic Senators Ben Cardin of Maryland and Joe Donnelly of Indiana. His first visit with a Republican, Senator Mark Kirk of Illinois, is scheduled for Tuesday. Democratic members of the Senate Judiciary Committee wrote to Grassley on Monday and proposed hearings on Garland in April, with votes on the nomination by May 25. Clinton\\u2019s speech came as her campaign aides argued with rival Bernie Sanders\\u2019 campaign in competing calls with the media over whether Sanders has a viable path to the Democratic presidential nomination. Sanders, a U.S. senator from Vermont, won contests in Alaska, Hawaii and Washington on Saturday, chipping away at Clinton\\u2019s lead in the race for the 2,382 delegates needed to secure the Democratic nomination at the party\\u2019s Philadelphia convention in July. Clinton now has a lead of 268 pledged delegates over Sanders. When superdelegates, party leaders who can support any candidate, are added, Clinton leads 1,712-1,004, according to an Associated Press count. But Sanders aides said he could eclipse Clinton\\u2019s advantage once the final round of contests are held on June 7, and that superdelegates would begin to switch to back Sanders once he did. \\u201cWe are in this to win it, and there is a path to do so,\\u201d campaign manager Jeff Weaver said. Clinton\\u2019s campaign described her lead as \\u201cinsurmountable\\u201d given the party\\u2019s proportional allocation of delegates in all states, which means Clinton will keep piling up delegates even in states Sanders wins. \\u201cYou have to win these big states very big, you have to win by landslides\\u201d to make up the deficit, Clinton strategist Joel Benenson told reporters. Trump also plans to campaign in Wisconsin this week as he seeks to build his lead over Republican rivals U.S. Senator Ted Cruz of Texas and Ohio Governor John Kasich.  Trump has won 738 of the 1,237 delegates needed to take the Republican nomination at its July convention in Cleveland. Cruz has won 463, while Kasich has won 143, according to The New York Times. \",\n          \"As it turns out, police brutality really isn t the issue at all. It s about dividing a nation down racial lines and the good police men and women are just part of a scheme by the Left that is being orchestrated in the highest office of our nation Police investigating the fatal shooting of a six-year-old autistic boy by two Louisiana state marshals are looking into whether one of the cops had a grudge with the child s father.Jeremy Mardis was shot five times in the head and chest as he sat in the passenger seat of his father Chris Few s car last week by officers Derrick Stafford, 32, and Norris Greenhouse.Investigators are exploring the possibility that Greenhouse, 23, had a personal issue with Few, after Few s fianc e Megan Dixon said the marshal had been messaging her on Facebook and coming round to their home.Ms Dixon has previously said she  was the reason this all started , adding that she knew what happened in the moments leading up to the shooting.Few and Ms Dixon were drinking Budweisers and shots of tequila in T.J. s Lounge and pool bar that evening before getting into an argument, the Denver Post reported.She announced to the bar that they were not seeing each other any more and started dancing with one of the barmen.Few reportedly stormed out of the bar, kicking a door as he left, before getting into a blazing row with Ms Dixon in the parking lot.They drove off in different vehicles and someone called 911.A short while later, after Few had picked up Jeremy, he pulled up next to Ms Dixon at a red light and asked her to come home with him. She said she declined because she was  stubborn .As she pulled away, Ms Dixon said she saw two marshals  cars approaching from behind with their lights flashing.She said she saw Few was pointing at his son s head, showing that he was in the car and he wasn t sure what to do.According to investigators, Few drove down a cul-de-sac as marshals Greenhouse and Stafford came round the corner.Police say Few started reversing and at this point the men opened fire, pumping 18 bullets into the SUV, five of which hit Jeremy in the head and chest.Police are investigating whether Greenhouse (left) had a grudge with Few, who was said to have confronted the cop over Facebook messages and visit to his fiancee. Pictured right, StaffordFew s attorney says footage from a bodycam worn by one of the cops shows the father putting his hands up before the officers started firing.Col. Edmonson on Friday described the footage as  the most disturbing thing I ve seen .He added:  That video was incredible. I mean, as a father, much less head of the state police, I looked at that tape, I said this is incredibly disturbing. Initial reports suggested the marshals had a warrant but it was subsequently discovered that they did not, and it is not known why they pursued Few.Greenhouse and Stafford were charged with second-degree murder and attempted second-degree murder. They are being held on $1million bonds.As you can see here, these two cops were about as bad as two cops can be. Since neither of them are white, and the victim is white, this is a non-story to the citizens who are reportedly  so concerned  about police brutality: Via: Daily Mail \"\n        ],\n        \"semantic_type\": \"\",\n        \"description\": \"\"\n      }\n    },\n    {\n      \"column\": \"label\",\n      \"properties\": {\n        \"dtype\": \"number\",\n        \"std\": 0,\n        \"min\": 0,\n        \"max\": 1,\n        \"num_unique_values\": 2,\n        \"samples\": [\n          1,\n          0\n        ],\n        \"semantic_type\": \"\",\n        \"description\": \"\"\n      }\n    }\n  ]\n}"
            }
          },
          "metadata": {},
          "execution_count": 12
        }
      ]
    },
    {
      "cell_type": "code",
      "source": [
        "df.info()"
      ],
      "metadata": {
        "colab": {
          "base_uri": "https://localhost:8080/"
        },
        "id": "S8BRwsM307tL",
        "outputId": "092f7fac-7f27-4e6f-bbde-c5da5cfe2975"
      },
      "execution_count": 13,
      "outputs": [
        {
          "output_type": "stream",
          "name": "stdout",
          "text": [
            "<class 'pandas.core.frame.DataFrame'>\n",
            "Index: 10000 entries, 1017 to 4969\n",
            "Data columns (total 4 columns):\n",
            " #   Column      Non-Null Count  Dtype \n",
            "---  ------      --------------  ----- \n",
            " 0   Unnamed: 0  10000 non-null  int64 \n",
            " 1   title       9913 non-null   object\n",
            " 2   text        9997 non-null   object\n",
            " 3   label       10000 non-null  int64 \n",
            "dtypes: int64(2), object(2)\n",
            "memory usage: 390.6+ KB\n"
          ]
        }
      ]
    },
    {
      "cell_type": "markdown",
      "source": [
        "# Missing data analysis"
      ],
      "metadata": {
        "id": "77VQWYlS1S-t"
      }
    },
    {
      "cell_type": "code",
      "source": [
        "df.isnull().sum()"
      ],
      "metadata": {
        "colab": {
          "base_uri": "https://localhost:8080/",
          "height": 210
        },
        "id": "_lpSIEbP1aQh",
        "outputId": "464f9200-829e-4f47-eb54-f90b4e552a6d"
      },
      "execution_count": 14,
      "outputs": [
        {
          "output_type": "execute_result",
          "data": {
            "text/plain": [
              "Unnamed: 0     0\n",
              "title         87\n",
              "text           3\n",
              "label          0\n",
              "dtype: int64"
            ],
            "text/html": [
              "<div>\n",
              "<style scoped>\n",
              "    .dataframe tbody tr th:only-of-type {\n",
              "        vertical-align: middle;\n",
              "    }\n",
              "\n",
              "    .dataframe tbody tr th {\n",
              "        vertical-align: top;\n",
              "    }\n",
              "\n",
              "    .dataframe thead th {\n",
              "        text-align: right;\n",
              "    }\n",
              "</style>\n",
              "<table border=\"1\" class=\"dataframe\">\n",
              "  <thead>\n",
              "    <tr style=\"text-align: right;\">\n",
              "      <th></th>\n",
              "      <th>0</th>\n",
              "    </tr>\n",
              "  </thead>\n",
              "  <tbody>\n",
              "    <tr>\n",
              "      <th>Unnamed: 0</th>\n",
              "      <td>0</td>\n",
              "    </tr>\n",
              "    <tr>\n",
              "      <th>title</th>\n",
              "      <td>87</td>\n",
              "    </tr>\n",
              "    <tr>\n",
              "      <th>text</th>\n",
              "      <td>3</td>\n",
              "    </tr>\n",
              "    <tr>\n",
              "      <th>label</th>\n",
              "      <td>0</td>\n",
              "    </tr>\n",
              "  </tbody>\n",
              "</table>\n",
              "</div><br><label><b>dtype:</b> int64</label>"
            ]
          },
          "metadata": {},
          "execution_count": 14
        }
      ]
    },
    {
      "cell_type": "code",
      "source": [
        "df=df.dropna()\n",
        "df.isnull().sum()"
      ],
      "metadata": {
        "colab": {
          "base_uri": "https://localhost:8080/",
          "height": 210
        },
        "id": "03-PKMk51smh",
        "outputId": "7d22b11d-fe2e-47aa-a1c0-b07958479c0e"
      },
      "execution_count": 15,
      "outputs": [
        {
          "output_type": "execute_result",
          "data": {
            "text/plain": [
              "Unnamed: 0    0\n",
              "title         0\n",
              "text          0\n",
              "label         0\n",
              "dtype: int64"
            ],
            "text/html": [
              "<div>\n",
              "<style scoped>\n",
              "    .dataframe tbody tr th:only-of-type {\n",
              "        vertical-align: middle;\n",
              "    }\n",
              "\n",
              "    .dataframe tbody tr th {\n",
              "        vertical-align: top;\n",
              "    }\n",
              "\n",
              "    .dataframe thead th {\n",
              "        text-align: right;\n",
              "    }\n",
              "</style>\n",
              "<table border=\"1\" class=\"dataframe\">\n",
              "  <thead>\n",
              "    <tr style=\"text-align: right;\">\n",
              "      <th></th>\n",
              "      <th>0</th>\n",
              "    </tr>\n",
              "  </thead>\n",
              "  <tbody>\n",
              "    <tr>\n",
              "      <th>Unnamed: 0</th>\n",
              "      <td>0</td>\n",
              "    </tr>\n",
              "    <tr>\n",
              "      <th>title</th>\n",
              "      <td>0</td>\n",
              "    </tr>\n",
              "    <tr>\n",
              "      <th>text</th>\n",
              "      <td>0</td>\n",
              "    </tr>\n",
              "    <tr>\n",
              "      <th>label</th>\n",
              "      <td>0</td>\n",
              "    </tr>\n",
              "  </tbody>\n",
              "</table>\n",
              "</div><br><label><b>dtype:</b> int64</label>"
            ]
          },
          "metadata": {},
          "execution_count": 15
        }
      ]
    },
    {
      "cell_type": "code",
      "source": [
        "df.shape"
      ],
      "metadata": {
        "colab": {
          "base_uri": "https://localhost:8080/"
        },
        "id": "2CtmpmmM2BsC",
        "outputId": "a892e815-68e1-4e6e-e069-e18ae8ad8a23"
      },
      "execution_count": 16,
      "outputs": [
        {
          "output_type": "execute_result",
          "data": {
            "text/plain": [
              "(9910, 4)"
            ]
          },
          "metadata": {},
          "execution_count": 16
        }
      ]
    },
    {
      "cell_type": "code",
      "source": [
        "df.drop(columns=['Unnamed: 0'],inplace=True)\n",
        "df.head()"
      ],
      "metadata": {
        "colab": {
          "base_uri": "https://localhost:8080/",
          "height": 206
        },
        "id": "tXuts3g-2HRk",
        "outputId": "849ebed0-550f-49e2-f3b2-01b4dc7c9bfa"
      },
      "execution_count": 17,
      "outputs": [
        {
          "output_type": "execute_result",
          "data": {
            "text/plain": [
              "                                                   title  \\\n",
              "1017   Indonesia foreign minister flies to Bangladesh...   \n",
              "25562  Islamic State claims responsibility for suicid...   \n",
              "62021  Senator seeks explanation for career U.S. pros...   \n",
              "48907  Trump taps retired general, TV analyst for NSC...   \n",
              "52663  Obama's EU envoy says Brexiteer Farage mislead...   \n",
              "\n",
              "                                                    text  label  \n",
              "1017   DHAKA (Reuters) - Indonesia s foreign minister...      0  \n",
              "25562  BAGHDAD (Reuters) - Islamic State has claimed ...      0  \n",
              "62021  WASHINGTON (Reuters) - A Democratic Senator sa...      0  \n",
              "48907  (Reuters) - U.S. President-elect Donald Trump ...      0  \n",
              "52663  BRUSSELS (Reuters) - Barack Obama’s envoy to B...      0  "
            ],
            "text/html": [
              "\n",
              "  <div id=\"df-7436e061-083c-4c4a-bcc0-460893ff3c2a\" class=\"colab-df-container\">\n",
              "    <div>\n",
              "<style scoped>\n",
              "    .dataframe tbody tr th:only-of-type {\n",
              "        vertical-align: middle;\n",
              "    }\n",
              "\n",
              "    .dataframe tbody tr th {\n",
              "        vertical-align: top;\n",
              "    }\n",
              "\n",
              "    .dataframe thead th {\n",
              "        text-align: right;\n",
              "    }\n",
              "</style>\n",
              "<table border=\"1\" class=\"dataframe\">\n",
              "  <thead>\n",
              "    <tr style=\"text-align: right;\">\n",
              "      <th></th>\n",
              "      <th>title</th>\n",
              "      <th>text</th>\n",
              "      <th>label</th>\n",
              "    </tr>\n",
              "  </thead>\n",
              "  <tbody>\n",
              "    <tr>\n",
              "      <th>1017</th>\n",
              "      <td>Indonesia foreign minister flies to Bangladesh...</td>\n",
              "      <td>DHAKA (Reuters) - Indonesia s foreign minister...</td>\n",
              "      <td>0</td>\n",
              "    </tr>\n",
              "    <tr>\n",
              "      <th>25562</th>\n",
              "      <td>Islamic State claims responsibility for suicid...</td>\n",
              "      <td>BAGHDAD (Reuters) - Islamic State has claimed ...</td>\n",
              "      <td>0</td>\n",
              "    </tr>\n",
              "    <tr>\n",
              "      <th>62021</th>\n",
              "      <td>Senator seeks explanation for career U.S. pros...</td>\n",
              "      <td>WASHINGTON (Reuters) - A Democratic Senator sa...</td>\n",
              "      <td>0</td>\n",
              "    </tr>\n",
              "    <tr>\n",
              "      <th>48907</th>\n",
              "      <td>Trump taps retired general, TV analyst for NSC...</td>\n",
              "      <td>(Reuters) - U.S. President-elect Donald Trump ...</td>\n",
              "      <td>0</td>\n",
              "    </tr>\n",
              "    <tr>\n",
              "      <th>52663</th>\n",
              "      <td>Obama's EU envoy says Brexiteer Farage mislead...</td>\n",
              "      <td>BRUSSELS (Reuters) - Barack Obama’s envoy to B...</td>\n",
              "      <td>0</td>\n",
              "    </tr>\n",
              "  </tbody>\n",
              "</table>\n",
              "</div>\n",
              "    <div class=\"colab-df-buttons\">\n",
              "\n",
              "  <div class=\"colab-df-container\">\n",
              "    <button class=\"colab-df-convert\" onclick=\"convertToInteractive('df-7436e061-083c-4c4a-bcc0-460893ff3c2a')\"\n",
              "            title=\"Convert this dataframe to an interactive table.\"\n",
              "            style=\"display:none;\">\n",
              "\n",
              "  <svg xmlns=\"http://www.w3.org/2000/svg\" height=\"24px\" viewBox=\"0 -960 960 960\">\n",
              "    <path d=\"M120-120v-720h720v720H120Zm60-500h600v-160H180v160Zm220 220h160v-160H400v160Zm0 220h160v-160H400v160ZM180-400h160v-160H180v160Zm440 0h160v-160H620v160ZM180-180h160v-160H180v160Zm440 0h160v-160H620v160Z\"/>\n",
              "  </svg>\n",
              "    </button>\n",
              "\n",
              "  <style>\n",
              "    .colab-df-container {\n",
              "      display:flex;\n",
              "      gap: 12px;\n",
              "    }\n",
              "\n",
              "    .colab-df-convert {\n",
              "      background-color: #E8F0FE;\n",
              "      border: none;\n",
              "      border-radius: 50%;\n",
              "      cursor: pointer;\n",
              "      display: none;\n",
              "      fill: #1967D2;\n",
              "      height: 32px;\n",
              "      padding: 0 0 0 0;\n",
              "      width: 32px;\n",
              "    }\n",
              "\n",
              "    .colab-df-convert:hover {\n",
              "      background-color: #E2EBFA;\n",
              "      box-shadow: 0px 1px 2px rgba(60, 64, 67, 0.3), 0px 1px 3px 1px rgba(60, 64, 67, 0.15);\n",
              "      fill: #174EA6;\n",
              "    }\n",
              "\n",
              "    .colab-df-buttons div {\n",
              "      margin-bottom: 4px;\n",
              "    }\n",
              "\n",
              "    [theme=dark] .colab-df-convert {\n",
              "      background-color: #3B4455;\n",
              "      fill: #D2E3FC;\n",
              "    }\n",
              "\n",
              "    [theme=dark] .colab-df-convert:hover {\n",
              "      background-color: #434B5C;\n",
              "      box-shadow: 0px 1px 3px 1px rgba(0, 0, 0, 0.15);\n",
              "      filter: drop-shadow(0px 1px 2px rgba(0, 0, 0, 0.3));\n",
              "      fill: #FFFFFF;\n",
              "    }\n",
              "  </style>\n",
              "\n",
              "    <script>\n",
              "      const buttonEl =\n",
              "        document.querySelector('#df-7436e061-083c-4c4a-bcc0-460893ff3c2a button.colab-df-convert');\n",
              "      buttonEl.style.display =\n",
              "        google.colab.kernel.accessAllowed ? 'block' : 'none';\n",
              "\n",
              "      async function convertToInteractive(key) {\n",
              "        const element = document.querySelector('#df-7436e061-083c-4c4a-bcc0-460893ff3c2a');\n",
              "        const dataTable =\n",
              "          await google.colab.kernel.invokeFunction('convertToInteractive',\n",
              "                                                    [key], {});\n",
              "        if (!dataTable) return;\n",
              "\n",
              "        const docLinkHtml = 'Like what you see? Visit the ' +\n",
              "          '<a target=\"_blank\" href=https://colab.research.google.com/notebooks/data_table.ipynb>data table notebook</a>'\n",
              "          + ' to learn more about interactive tables.';\n",
              "        element.innerHTML = '';\n",
              "        dataTable['output_type'] = 'display_data';\n",
              "        await google.colab.output.renderOutput(dataTable, element);\n",
              "        const docLink = document.createElement('div');\n",
              "        docLink.innerHTML = docLinkHtml;\n",
              "        element.appendChild(docLink);\n",
              "      }\n",
              "    </script>\n",
              "  </div>\n",
              "\n",
              "\n",
              "<div id=\"df-3826498b-9e3f-460e-815d-52a6cf79de41\">\n",
              "  <button class=\"colab-df-quickchart\" onclick=\"quickchart('df-3826498b-9e3f-460e-815d-52a6cf79de41')\"\n",
              "            title=\"Suggest charts\"\n",
              "            style=\"display:none;\">\n",
              "\n",
              "<svg xmlns=\"http://www.w3.org/2000/svg\" height=\"24px\"viewBox=\"0 0 24 24\"\n",
              "     width=\"24px\">\n",
              "    <g>\n",
              "        <path d=\"M19 3H5c-1.1 0-2 .9-2 2v14c0 1.1.9 2 2 2h14c1.1 0 2-.9 2-2V5c0-1.1-.9-2-2-2zM9 17H7v-7h2v7zm4 0h-2V7h2v10zm4 0h-2v-4h2v4z\"/>\n",
              "    </g>\n",
              "</svg>\n",
              "  </button>\n",
              "\n",
              "<style>\n",
              "  .colab-df-quickchart {\n",
              "      --bg-color: #E8F0FE;\n",
              "      --fill-color: #1967D2;\n",
              "      --hover-bg-color: #E2EBFA;\n",
              "      --hover-fill-color: #174EA6;\n",
              "      --disabled-fill-color: #AAA;\n",
              "      --disabled-bg-color: #DDD;\n",
              "  }\n",
              "\n",
              "  [theme=dark] .colab-df-quickchart {\n",
              "      --bg-color: #3B4455;\n",
              "      --fill-color: #D2E3FC;\n",
              "      --hover-bg-color: #434B5C;\n",
              "      --hover-fill-color: #FFFFFF;\n",
              "      --disabled-bg-color: #3B4455;\n",
              "      --disabled-fill-color: #666;\n",
              "  }\n",
              "\n",
              "  .colab-df-quickchart {\n",
              "    background-color: var(--bg-color);\n",
              "    border: none;\n",
              "    border-radius: 50%;\n",
              "    cursor: pointer;\n",
              "    display: none;\n",
              "    fill: var(--fill-color);\n",
              "    height: 32px;\n",
              "    padding: 0;\n",
              "    width: 32px;\n",
              "  }\n",
              "\n",
              "  .colab-df-quickchart:hover {\n",
              "    background-color: var(--hover-bg-color);\n",
              "    box-shadow: 0 1px 2px rgba(60, 64, 67, 0.3), 0 1px 3px 1px rgba(60, 64, 67, 0.15);\n",
              "    fill: var(--button-hover-fill-color);\n",
              "  }\n",
              "\n",
              "  .colab-df-quickchart-complete:disabled,\n",
              "  .colab-df-quickchart-complete:disabled:hover {\n",
              "    background-color: var(--disabled-bg-color);\n",
              "    fill: var(--disabled-fill-color);\n",
              "    box-shadow: none;\n",
              "  }\n",
              "\n",
              "  .colab-df-spinner {\n",
              "    border: 2px solid var(--fill-color);\n",
              "    border-color: transparent;\n",
              "    border-bottom-color: var(--fill-color);\n",
              "    animation:\n",
              "      spin 1s steps(1) infinite;\n",
              "  }\n",
              "\n",
              "  @keyframes spin {\n",
              "    0% {\n",
              "      border-color: transparent;\n",
              "      border-bottom-color: var(--fill-color);\n",
              "      border-left-color: var(--fill-color);\n",
              "    }\n",
              "    20% {\n",
              "      border-color: transparent;\n",
              "      border-left-color: var(--fill-color);\n",
              "      border-top-color: var(--fill-color);\n",
              "    }\n",
              "    30% {\n",
              "      border-color: transparent;\n",
              "      border-left-color: var(--fill-color);\n",
              "      border-top-color: var(--fill-color);\n",
              "      border-right-color: var(--fill-color);\n",
              "    }\n",
              "    40% {\n",
              "      border-color: transparent;\n",
              "      border-right-color: var(--fill-color);\n",
              "      border-top-color: var(--fill-color);\n",
              "    }\n",
              "    60% {\n",
              "      border-color: transparent;\n",
              "      border-right-color: var(--fill-color);\n",
              "    }\n",
              "    80% {\n",
              "      border-color: transparent;\n",
              "      border-right-color: var(--fill-color);\n",
              "      border-bottom-color: var(--fill-color);\n",
              "    }\n",
              "    90% {\n",
              "      border-color: transparent;\n",
              "      border-bottom-color: var(--fill-color);\n",
              "    }\n",
              "  }\n",
              "</style>\n",
              "\n",
              "  <script>\n",
              "    async function quickchart(key) {\n",
              "      const quickchartButtonEl =\n",
              "        document.querySelector('#' + key + ' button');\n",
              "      quickchartButtonEl.disabled = true;  // To prevent multiple clicks.\n",
              "      quickchartButtonEl.classList.add('colab-df-spinner');\n",
              "      try {\n",
              "        const charts = await google.colab.kernel.invokeFunction(\n",
              "            'suggestCharts', [key], {});\n",
              "      } catch (error) {\n",
              "        console.error('Error during call to suggestCharts:', error);\n",
              "      }\n",
              "      quickchartButtonEl.classList.remove('colab-df-spinner');\n",
              "      quickchartButtonEl.classList.add('colab-df-quickchart-complete');\n",
              "    }\n",
              "    (() => {\n",
              "      let quickchartButtonEl =\n",
              "        document.querySelector('#df-3826498b-9e3f-460e-815d-52a6cf79de41 button');\n",
              "      quickchartButtonEl.style.display =\n",
              "        google.colab.kernel.accessAllowed ? 'block' : 'none';\n",
              "    })();\n",
              "  </script>\n",
              "</div>\n",
              "\n",
              "    </div>\n",
              "  </div>\n"
            ],
            "application/vnd.google.colaboratory.intrinsic+json": {
              "type": "dataframe",
              "variable_name": "df",
              "summary": "{\n  \"name\": \"df\",\n  \"rows\": 9910,\n  \"fields\": [\n    {\n      \"column\": \"title\",\n      \"properties\": {\n        \"dtype\": \"string\",\n        \"num_unique_values\": 9743,\n        \"samples\": [\n          \" \\u2018Ghost Of Witness Flipped\\u2019: Hilarious SNL Skit Takes Trump Into His Own Private Holiday Hell (VIDEO)\",\n          \"Pentagon chief, Saudi deputy crown prince discuss fight against Islamic State\",\n          \"Japan to build four radar stations for the Philippines to counter piracy surge: sources\"\n        ],\n        \"semantic_type\": \"\",\n        \"description\": \"\"\n      }\n    },\n    {\n      \"column\": \"text\",\n      \"properties\": {\n        \"dtype\": \"string\",\n        \"num_unique_values\": 9646,\n        \"samples\": [\n          \"BEIRUT (Reuters) - Syrian President Bashar al-Assad on Monday described U.S.-backed militias in eastern Syria as  traitors , his office said in an online statement.  In a meeting with Russian Deputy Prime Minister Dmitry Rogozin at Syria s Hmeimim base, Assad also welcomed a United Nations role in Syrian elections as long as it was linked with Syria s sovereignty, his office cited him as saying. Assad has repeatedly vowed to take back all of Syria.  A U.S.-led international coalition against Islamic State has given military support to the Syrian Democratic Forces (SDF), an alliance of Kurdish and Arab militias that now controls nearly a quarter of Syria.  The SDF said Assad s comments were no surprise, accusing his government of sowing strife and sectarianism.  We assert once again that we will go forward without hesitation in chasing terrorism,  it said in a statement.   This regime ... is itself a definition of treachery that, if Syrians do not confront it, will lead to partitioning the country, which our forces will not allow in any form,  the Kurdish-led SDF added. Rogozin was quoted by Russia s RIA news agency as saying after the meeting with Assad that Russia would be the only country to take part in rebuilding Syrian energy facilities. \",\n          \"For centuries, societies have erected walls and fences to separate themselves from their neighbors, from the Great Wall of China through the Berlin Wall right up to the barrier that today divides Israel from the Palestinians on the West Bank.\\n\\nThe United States has debated putting up security barriers of its own along the Southwest border and has spent billions of dollars in recent years fencing one-third of it.\\n\\nNow, Donald Trump is proposing to go even further, vowing to build a massive, impenetrable wall along the U.S.-Mexico frontier to keep out illegal Mexican migrants. \\n\\n\\u201cBuilding a wall is easy, and it can be done inexpensively,\\u201d the Republican presidential candidate said in an interview. \\u201cIt\\u2019s not even a difficult project if you know what you\\u2019re doing.\\u2019\\u2019\\n\\nThe wall has become the signature proposal of Trump\\u2019s campaign, which has stirred widespread controversy over its focus on illegal immigration and his comments about immigrants.\\n\\nAny wall-building effort would cost billions of dollars and encounter a variety of obstacles, according to experts, documents and federal officials, including some of the same difficulties that bedeviled the federal government as it spent more than $7 billion on border fencing. The hurdles include environmental and engineering problems; fights with ranchers and others who don\\u2019t want to give up their land; and the huge topographical challenges of the border, which runs through remote desert in Arizona to rugged mountains in New Mexico and, for two-thirds of its length, along rivers.\\n\\n\\u201cIt\\u2019s extremely challenging to put a brick-and-mortar wall along the Southwest border for any number of reasons,\\u201d said Richard Stana, who wrote multiple reports on border security for the nonpartisan Government Accountability Office before retiring in 2011. \\u201cIt seems very simplistic.\\u201d\\n\\nIf such a barrier could be erected, experts and government officials agreed that making it impenetrable would be virtually impossible, as is completely securing the entire 1,954-mile border. The Department of Homeland Security is already spending millions of dollars a year to maintain existing fences and to repair breaches, according to government reports and officials, while drug traffickers and smugglers are increasingly using tunnels to pass underneath.\\n\\nWhile a wall along much of the border might theoretically be possible, said Thad Bingel, a former senior U.S. Customs and Border Protection official, \\u201cis it desirable? At what cost, and what do you give up to pay for that?\\u2019\\u2019\\n\\nBingel \\u2014 who was involved in border fence-building during the George W. Bush administration and is now a partner at Command Consulting Group in Washington \\u2014 added: \\u201cEvery wall can be circumvented. People can go under it, they can go over it. .\\u2009.\\u2009. No one should go into this with the idea that if you just build the right kind of wall, no one will get through.\\u2019\\u2019\\n\\nTrump disputed that, saying that a wall \\u201cwould be very effective\\u201d in deterring illegal migrants and that seismic and other equipment could detect and stop any underground tunnels. \\u201cA wall is better than fencing, and it\\u2019s much more powerful,\\u201d he said. \\u201cIt\\u2019s more secure. It\\u2019s taller.\\u201d\\n\\nThe veteran builder acknowledged that environmental impact studies would be difficult but said he is the one person who can rise to the challenge. \\u201cI\\u2019m considered a great builder, by everybody,\\u201d he said, adding that cost is irrelevant because he would force Mexico to pay for the structure. Asked whether that was realistic, Trump said: \\u201cIt\\u2019s realistic if you know something about the art of negotiating. If you have a bunch of clowns negotiating, it\\u2019s not realistic.\\u201d\\n\\nTrump has emerged as a leading GOP candidate partly because of his strong statements about immigration, which have included describing Mexicans entering the country illegally as \\u201crapists\\u201d and \\u201cmurderers.\\u201d He has suggested at times that his proposed wall would be extensive and would cover nearly the entire border, but said in the interview: \\u201cYou don\\u2019t have to build it in every location. There would be some locations where you would have guards, where you don\\u2019t need it because the topography acts as its own wall, whether that\\u2019s water or very rough terrain.\\u201d\\n\\n[Univision cuts ties with Trump over comments about Mexican immigrants]\\n\\nThe concept of a wall or fence along virtually the entire border has bubbled up occasionally in the nation\\u2019s immigration debate, with some Republicans supporting the idea. Today, there are more than 45 such walls and border fences worldwide, perhaps most prominently Israel\\u2019s West Bank barrier.\\n\\nWhile Israeli officials say it has reduced attacks, security specialists say that barrier, slated to be more than 400 miles long when finished, is not comparable to what would be required along the far more extensive U.S. Southwest border. The Israelis, they add, supplement the physical concrete barrier with a mix of border police and technology, much as the Department of Homeland Security does in the United States.\\n\\nThe U.S. government began building border fencing near San Diego in 1990. As DHS cracked down on illegal immigration after the Sept. 11, 2001, attacks, President George W. Bush dramatically expanded the effort. Spending on border fencing and related infrastructure such as lighting shot up from $298 million in 2006 to $1.5 billion the following year, according to the nonpartisan Congressional Research Service.\\n\\nOverall, more than $7 billion has been spent to build what is now almost 653 miles of Southwest border fencing \\u2014 costing nearly $5 million per mile in some spots \\u2014 nearly half in Arizona.\\n\\nThe costs could rise substantially if extensive new fencing was built, since it would be in increasingly remote regions without roads and in mountainous terrain, said Marc Rosenblum, deputy director of the U.S. immigration policy program at the Migration Policy Institute. Adding even more to the expense, he said, would be acquiring private land near the border and maintaining existing fencing.\\n\\nTrump\\u2019s wall would probably cost far more than fencing, Stana said, given the greater needs for construction materials and labor.\\n\\nWhile current and former DHS officials say the fencing has been effective in deterring illegal immigration, they say it is only one part of a broader border strategy that includes expanded sensors, drones and other technology, along with growing numbers of Border Patrol officers.\\n\\n\\u201cOur southern border is a mixture of winding river, desert and mountains. Simply building more fences is not the answer,\\u201d DHS Secretary Jeh Johnson said in an October speech.\\n\\nThe government\\u2019s difficulties in erecting fences highlight the challenges of building a wall, experts said. The fencing mandated by Congress in 2006 was beset by delays, surging construction costs and disputes with private property owners, mostly in Texas, DHS officials have said. The biggest failure was the virtual fence, a Bush administration effort to cover the border with a high-tech surveillance system.\\n\\n\\u201cIt\\u2019s a huge effort to construct anything at the border,\\u201d said one DHS official, who has worked in Republican and Democratic administrations and spoke on the condition of anonymity because Trump\\u2019s plan is part of a political campaign. \\u201cYou have lots of requirements to do construction: the environmental piece, engineering assessments. And a private landowner might not want fencing.\\u201d\\n\\nWayne Cornelius, director of the Mexican migration field research program at the University of California at San Diego, called Trump\\u2019s proposal \\u201cludicrous. .\\u2009.\\u2009. Any physical barrier can be tunneled under or climbed over or gotten around. There will always be gaps, and smugglers and migrants will seek out those gaps and go through.\\u201d\\n\\nRobert Costa and Alice Crites contributed to this story.\",\n          \"WASHINGTON (Reuters) - U.S. presidential candidate Bernie Sanders, who has made income inequality a top campaign theme, had taxable income of $205,271 in 2014, putting him almost in the top 5 percent of American earners, according to the release of Friday of his federal tax return. That figure was still far below the millions earned by his main Democratic rival, Hillary Clinton, in recent years.  Sanders and his wife, Jane, paid $27,653 in federal income taxes in 2014, an effective federal tax rate of 13.5 percent, on income of $205,271, which is their adjusted gross income before deductions. That figure is just below the $206,563 that Census data show as the lower limit for the top 5 percent of U.S. households in 2014. But Hillary Clinton and her husband, former President Bill Clinton, had income approaching $140 million over the last eight years, according to previously released returns. Sanders on Thursday described himself as \\u201cone of the poorer members of the United States Senate.\\u201d     Median net worth among members of the U.S. Senate in 2014 stood at $2.9 million, according to the Center for Responsive Politics, a non-profit organization that tracks money in politics. The return released on Friday does not include information on Sanders\\u2019 net worth. The return does show Sanders had federal taxable income after deductions of $140,994.  Sanders has run a populist effort, vowing to reform what he calls a \\u201ccorrupt\\u201d campaign finance system reliant on millionaires and billionaires at the expense of average voters. Clinton, in contrast, has much stronger ties to the financial system, including six-figure payments for speeches she gave to several financial institutions in recent years.  Sanders often expresses skepticism that someone with those kinds of ties can effectively overhaul banks and other institutions. Clinton says she is steadfast in her commitment to eroding income inequality and creating a safe financial system.     The two have clashed repeatedly over the topic - most recently Thursday night at a debate in the New York City borough of Brooklyn. At that event, Sanders promised to release his tax returns after Clinton raised the issue. \\u201cYou\\u2019ll get them, yes,\\u201d Sanders said. \\u201cThey are very boring tax returns. No big money from speeches, no major investments. Unfortunately - unfortunately - I remain one of the poorer members of the United States Senate.\\u201d Clinton has a significant lead in pledged delegates over Sanders in the race for the Democratic nomination for the November presidential election. \"\n        ],\n        \"semantic_type\": \"\",\n        \"description\": \"\"\n      }\n    },\n    {\n      \"column\": \"label\",\n      \"properties\": {\n        \"dtype\": \"number\",\n        \"std\": 0,\n        \"min\": 0,\n        \"max\": 1,\n        \"num_unique_values\": 2,\n        \"samples\": [\n          1,\n          0\n        ],\n        \"semantic_type\": \"\",\n        \"description\": \"\"\n      }\n    }\n  ]\n}"
            }
          },
          "metadata": {},
          "execution_count": 17
        }
      ]
    },
    {
      "cell_type": "markdown",
      "source": [
        "# Class distribution"
      ],
      "metadata": {
        "id": "2egPxObo2auj"
      }
    },
    {
      "cell_type": "code",
      "source": [
        "# 0 : Fake , 1: Real\n",
        "df['label'].value_counts().plot.pie(autopct='%.2f')"
      ],
      "metadata": {
        "colab": {
          "base_uri": "https://localhost:8080/",
          "height": 423
        },
        "id": "zjWCMAGs2eJ9",
        "outputId": "c814d81d-68e8-47b2-ce1b-85b89cb9a6a9"
      },
      "execution_count": 20,
      "outputs": [
        {
          "output_type": "execute_result",
          "data": {
            "text/plain": [
              "<Axes: ylabel='count'>"
            ]
          },
          "metadata": {},
          "execution_count": 20
        },
        {
          "output_type": "display_data",
          "data": {
            "text/plain": [
              "<Figure size 640x480 with 1 Axes>"
            ],
            "image/png": "[encoded data removed]"
          },
          "metadata": {}
        }
      ]
    },
    {
      "cell_type": "markdown",
      "source": [
        "We have a balanced data"
      ],
      "metadata": {
        "id": "YcpcaG3W2-ws"
      }
    },
    {
      "cell_type": "code",
      "source": [
        "X=df.drop(columns=['label'])\n",
        "y=df['label']"
      ],
      "metadata": {
        "id": "fvUzRshn3HBY"
      },
      "execution_count": 22,
      "outputs": []
    },
    {
      "cell_type": "code",
      "source": [
        "messages=X.copy()\n",
        "messages.reset_index(inplace=True)\n",
        "messages.head()"
      ],
      "metadata": {
        "colab": {
          "base_uri": "https://localhost:8080/",
          "height": 206
        },
        "id": "IA87kNuk682C",
        "outputId": "6505cb99-496b-4600-9373-80f0fb13e3a7"
      },
      "execution_count": 23,
      "outputs": [
        {
          "output_type": "execute_result",
          "data": {
            "text/plain": [
              "   index                                              title  \\\n",
              "0   1017  Indonesia foreign minister flies to Bangladesh...   \n",
              "1  25562  Islamic State claims responsibility for suicid...   \n",
              "2  62021  Senator seeks explanation for career U.S. pros...   \n",
              "3  48907  Trump taps retired general, TV analyst for NSC...   \n",
              "4  52663  Obama's EU envoy says Brexiteer Farage mislead...   \n",
              "\n",
              "                                                text  \n",
              "0  DHAKA (Reuters) - Indonesia s foreign minister...  \n",
              "1  BAGHDAD (Reuters) - Islamic State has claimed ...  \n",
              "2  WASHINGTON (Reuters) - A Democratic Senator sa...  \n",
              "3  (Reuters) - U.S. President-elect Donald Trump ...  \n",
              "4  BRUSSELS (Reuters) - Barack Obama’s envoy to B...  "
            ],
            "text/html": [
              "\n",
              "  <div id=\"df-1203df10-e19a-4aa7-b6aa-813d213902cd\" class=\"colab-df-container\">\n",
              "    <div>\n",
              "<style scoped>\n",
              "    .dataframe tbody tr th:only-of-type {\n",
              "        vertical-align: middle;\n",
              "    }\n",
              "\n",
              "    .dataframe tbody tr th {\n",
              "        vertical-align: top;\n",
              "    }\n",
              "\n",
              "    .dataframe thead th {\n",
              "        text-align: right;\n",
              "    }\n",
              "</style>\n",
              "<table border=\"1\" class=\"dataframe\">\n",
              "  <thead>\n",
              "    <tr style=\"text-align: right;\">\n",
              "      <th></th>\n",
              "      <th>index</th>\n",
              "      <th>title</th>\n",
              "      <th>text</th>\n",
              "    </tr>\n",
              "  </thead>\n",
              "  <tbody>\n",
              "    <tr>\n",
              "      <th>0</th>\n",
              "      <td>1017</td>\n",
              "      <td>Indonesia foreign minister flies to Bangladesh...</td>\n",
              "      <td>DHAKA (Reuters) - Indonesia s foreign minister...</td>\n",
              "    </tr>\n",
              "    <tr>\n",
              "      <th>1</th>\n",
              "      <td>25562</td>\n",
              "      <td>Islamic State claims responsibility for suicid...</td>\n",
              "      <td>BAGHDAD (Reuters) - Islamic State has claimed ...</td>\n",
              "    </tr>\n",
              "    <tr>\n",
              "      <th>2</th>\n",
              "      <td>62021</td>\n",
              "      <td>Senator seeks explanation for career U.S. pros...</td>\n",
              "      <td>WASHINGTON (Reuters) - A Democratic Senator sa...</td>\n",
              "    </tr>\n",
              "    <tr>\n",
              "      <th>3</th>\n",
              "      <td>48907</td>\n",
              "      <td>Trump taps retired general, TV analyst for NSC...</td>\n",
              "      <td>(Reuters) - U.S. President-elect Donald Trump ...</td>\n",
              "    </tr>\n",
              "    <tr>\n",
              "      <th>4</th>\n",
              "      <td>52663</td>\n",
              "      <td>Obama's EU envoy says Brexiteer Farage mislead...</td>\n",
              "      <td>BRUSSELS (Reuters) - Barack Obama’s envoy to B...</td>\n",
              "    </tr>\n",
              "  </tbody>\n",
              "</table>\n",
              "</div>\n",
              "    <div class=\"colab-df-buttons\">\n",
              "\n",
              "  <div class=\"colab-df-container\">\n",
              "    <button class=\"colab-df-convert\" onclick=\"convertToInteractive('df-1203df10-e19a-4aa7-b6aa-813d213902cd')\"\n",
              "            title=\"Convert this dataframe to an interactive table.\"\n",
              "            style=\"display:none;\">\n",
              "\n",
              "  <svg xmlns=\"http://www.w3.org/2000/svg\" height=\"24px\" viewBox=\"0 -960 960 960\">\n",
              "    <path d=\"M120-120v-720h720v720H120Zm60-500h600v-160H180v160Zm220 220h160v-160H400v160Zm0 220h160v-160H400v160ZM180-400h160v-160H180v160Zm440 0h160v-160H620v160ZM180-180h160v-160H180v160Zm440 0h160v-160H620v160Z\"/>\n",
              "  </svg>\n",
              "    </button>\n",
              "\n",
              "  <style>\n",
              "    .colab-df-container {\n",
              "      display:flex;\n",
              "      gap: 12px;\n",
              "    }\n",
              "\n",
              "    .colab-df-convert {\n",
              "      background-color: #E8F0FE;\n",
              "      border: none;\n",
              "      border-radius: 50%;\n",
              "      cursor: pointer;\n",
              "      display: none;\n",
              "      fill: #1967D2;\n",
              "      height: 32px;\n",
              "      padding: 0 0 0 0;\n",
              "      width: 32px;\n",
              "    }\n",
              "\n",
              "    .colab-df-convert:hover {\n",
              "      background-color: #E2EBFA;\n",
              "      box-shadow: 0px 1px 2px rgba(60, 64, 67, 0.3), 0px 1px 3px 1px rgba(60, 64, 67, 0.15);\n",
              "      fill: #174EA6;\n",
              "    }\n",
              "\n",
              "    .colab-df-buttons div {\n",
              "      margin-bottom: 4px;\n",
              "    }\n",
              "\n",
              "    [theme=dark] .colab-df-convert {\n",
              "      background-color: #3B4455;\n",
              "      fill: #D2E3FC;\n",
              "    }\n",
              "\n",
              "    [theme=dark] .colab-df-convert:hover {\n",
              "      background-color: #434B5C;\n",
              "      box-shadow: 0px 1px 3px 1px rgba(0, 0, 0, 0.15);\n",
              "      filter: drop-shadow(0px 1px 2px rgba(0, 0, 0, 0.3));\n",
              "      fill: #FFFFFF;\n",
              "    }\n",
              "  </style>\n",
              "\n",
              "    <script>\n",
              "      const buttonEl =\n",
              "        document.querySelector('#df-1203df10-e19a-4aa7-b6aa-813d213902cd button.colab-df-convert');\n",
              "      buttonEl.style.display =\n",
              "        google.colab.kernel.accessAllowed ? 'block' : 'none';\n",
              "\n",
              "      async function convertToInteractive(key) {\n",
              "        const element = document.querySelector('#df-1203df10-e19a-4aa7-b6aa-813d213902cd');\n",
              "        const dataTable =\n",
              "          await google.colab.kernel.invokeFunction('convertToInteractive',\n",
              "                                                    [key], {});\n",
              "        if (!dataTable) return;\n",
              "\n",
              "        const docLinkHtml = 'Like what you see? Visit the ' +\n",
              "          '<a target=\"_blank\" href=https://colab.research.google.com/notebooks/data_table.ipynb>data table notebook</a>'\n",
              "          + ' to learn more about interactive tables.';\n",
              "        element.innerHTML = '';\n",
              "        dataTable['output_type'] = 'display_data';\n",
              "        await google.colab.output.renderOutput(dataTable, element);\n",
              "        const docLink = document.createElement('div');\n",
              "        docLink.innerHTML = docLinkHtml;\n",
              "        element.appendChild(docLink);\n",
              "      }\n",
              "    </script>\n",
              "  </div>\n",
              "\n",
              "\n",
              "<div id=\"df-ec3a6c89-7ebc-4c76-886f-7dd7112e762c\">\n",
              "  <button class=\"colab-df-quickchart\" onclick=\"quickchart('df-ec3a6c89-7ebc-4c76-886f-7dd7112e762c')\"\n",
              "            title=\"Suggest charts\"\n",
              "            style=\"display:none;\">\n",
              "\n",
              "<svg xmlns=\"http://www.w3.org/2000/svg\" height=\"24px\"viewBox=\"0 0 24 24\"\n",
              "     width=\"24px\">\n",
              "    <g>\n",
              "        <path d=\"M19 3H5c-1.1 0-2 .9-2 2v14c0 1.1.9 2 2 2h14c1.1 0 2-.9 2-2V5c0-1.1-.9-2-2-2zM9 17H7v-7h2v7zm4 0h-2V7h2v10zm4 0h-2v-4h2v4z\"/>\n",
              "    </g>\n",
              "</svg>\n",
              "  </button>\n",
              "\n",
              "<style>\n",
              "  .colab-df-quickchart {\n",
              "      --bg-color: #E8F0FE;\n",
              "      --fill-color: #1967D2;\n",
              "      --hover-bg-color: #E2EBFA;\n",
              "      --hover-fill-color: #174EA6;\n",
              "      --disabled-fill-color: #AAA;\n",
              "      --disabled-bg-color: #DDD;\n",
              "  }\n",
              "\n",
              "  [theme=dark] .colab-df-quickchart {\n",
              "      --bg-color: #3B4455;\n",
              "      --fill-color: #D2E3FC;\n",
              "      --hover-bg-color: #434B5C;\n",
              "      --hover-fill-color: #FFFFFF;\n",
              "      --disabled-bg-color: #3B4455;\n",
              "      --disabled-fill-color: #666;\n",
              "  }\n",
              "\n",
              "  .colab-df-quickchart {\n",
              "    background-color: var(--bg-color);\n",
              "    border: none;\n",
              "    border-radius: 50%;\n",
              "    cursor: pointer;\n",
              "    display: none;\n",
              "    fill: var(--fill-color);\n",
              "    height: 32px;\n",
              "    padding: 0;\n",
              "    width: 32px;\n",
              "  }\n",
              "\n",
              "  .colab-df-quickchart:hover {\n",
              "    background-color: var(--hover-bg-color);\n",
              "    box-shadow: 0 1px 2px rgba(60, 64, 67, 0.3), 0 1px 3px 1px rgba(60, 64, 67, 0.15);\n",
              "    fill: var(--button-hover-fill-color);\n",
              "  }\n",
              "\n",
              "  .colab-df-quickchart-complete:disabled,\n",
              "  .colab-df-quickchart-complete:disabled:hover {\n",
              "    background-color: var(--disabled-bg-color);\n",
              "    fill: var(--disabled-fill-color);\n",
              "    box-shadow: none;\n",
              "  }\n",
              "\n",
              "  .colab-df-spinner {\n",
              "    border: 2px solid var(--fill-color);\n",
              "    border-color: transparent;\n",
              "    border-bottom-color: var(--fill-color);\n",
              "    animation:\n",
              "      spin 1s steps(1) infinite;\n",
              "  }\n",
              "\n",
              "  @keyframes spin {\n",
              "    0% {\n",
              "      border-color: transparent;\n",
              "      border-bottom-color: var(--fill-color);\n",
              "      border-left-color: var(--fill-color);\n",
              "    }\n",
              "    20% {\n",
              "      border-color: transparent;\n",
              "      border-left-color: var(--fill-color);\n",
              "      border-top-color: var(--fill-color);\n",
              "    }\n",
              "    30% {\n",
              "      border-color: transparent;\n",
              "      border-left-color: var(--fill-color);\n",
              "      border-top-color: var(--fill-color);\n",
              "      border-right-color: var(--fill-color);\n",
              "    }\n",
              "    40% {\n",
              "      border-color: transparent;\n",
              "      border-right-color: var(--fill-color);\n",
              "      border-top-color: var(--fill-color);\n",
              "    }\n",
              "    60% {\n",
              "      border-color: transparent;\n",
              "      border-right-color: var(--fill-color);\n",
              "    }\n",
              "    80% {\n",
              "      border-color: transparent;\n",
              "      border-right-color: var(--fill-color);\n",
              "      border-bottom-color: var(--fill-color);\n",
              "    }\n",
              "    90% {\n",
              "      border-color: transparent;\n",
              "      border-bottom-color: var(--fill-color);\n",
              "    }\n",
              "  }\n",
              "</style>\n",
              "\n",
              "  <script>\n",
              "    async function quickchart(key) {\n",
              "      const quickchartButtonEl =\n",
              "        document.querySelector('#' + key + ' button');\n",
              "      quickchartButtonEl.disabled = true;  // To prevent multiple clicks.\n",
              "      quickchartButtonEl.classList.add('colab-df-spinner');\n",
              "      try {\n",
              "        const charts = await google.colab.kernel.invokeFunction(\n",
              "            'suggestCharts', [key], {});\n",
              "      } catch (error) {\n",
              "        console.error('Error during call to suggestCharts:', error);\n",
              "      }\n",
              "      quickchartButtonEl.classList.remove('colab-df-spinner');\n",
              "      quickchartButtonEl.classList.add('colab-df-quickchart-complete');\n",
              "    }\n",
              "    (() => {\n",
              "      let quickchartButtonEl =\n",
              "        document.querySelector('#df-ec3a6c89-7ebc-4c76-886f-7dd7112e762c button');\n",
              "      quickchartButtonEl.style.display =\n",
              "        google.colab.kernel.accessAllowed ? 'block' : 'none';\n",
              "    })();\n",
              "  </script>\n",
              "</div>\n",
              "\n",
              "    </div>\n",
              "  </div>\n"
            ],
            "application/vnd.google.colaboratory.intrinsic+json": {
              "type": "dataframe",
              "variable_name": "messages",
              "summary": "{\n  \"name\": \"messages\",\n  \"rows\": 9910,\n  \"fields\": [\n    {\n      \"column\": \"index\",\n      \"properties\": {\n        \"dtype\": \"number\",\n        \"std\": 20854,\n        \"min\": 23,\n        \"max\": 72106,\n        \"num_unique_values\": 9910,\n        \"samples\": [\n          41369,\n          19634,\n          10302\n        ],\n        \"semantic_type\": \"\",\n        \"description\": \"\"\n      }\n    },\n    {\n      \"column\": \"title\",\n      \"properties\": {\n        \"dtype\": \"string\",\n        \"num_unique_values\": 9743,\n        \"samples\": [\n          \" \\u2018Ghost Of Witness Flipped\\u2019: Hilarious SNL Skit Takes Trump Into His Own Private Holiday Hell (VIDEO)\",\n          \"Pentagon chief, Saudi deputy crown prince discuss fight against Islamic State\",\n          \"Japan to build four radar stations for the Philippines to counter piracy surge: sources\"\n        ],\n        \"semantic_type\": \"\",\n        \"description\": \"\"\n      }\n    },\n    {\n      \"column\": \"text\",\n      \"properties\": {\n        \"dtype\": \"string\",\n        \"num_unique_values\": 9646,\n        \"samples\": [\n          \"BEIRUT (Reuters) - Syrian President Bashar al-Assad on Monday described U.S.-backed militias in eastern Syria as  traitors , his office said in an online statement.  In a meeting with Russian Deputy Prime Minister Dmitry Rogozin at Syria s Hmeimim base, Assad also welcomed a United Nations role in Syrian elections as long as it was linked with Syria s sovereignty, his office cited him as saying. Assad has repeatedly vowed to take back all of Syria.  A U.S.-led international coalition against Islamic State has given military support to the Syrian Democratic Forces (SDF), an alliance of Kurdish and Arab militias that now controls nearly a quarter of Syria.  The SDF said Assad s comments were no surprise, accusing his government of sowing strife and sectarianism.  We assert once again that we will go forward without hesitation in chasing terrorism,  it said in a statement.   This regime ... is itself a definition of treachery that, if Syrians do not confront it, will lead to partitioning the country, which our forces will not allow in any form,  the Kurdish-led SDF added. Rogozin was quoted by Russia s RIA news agency as saying after the meeting with Assad that Russia would be the only country to take part in rebuilding Syrian energy facilities. \",\n          \"For centuries, societies have erected walls and fences to separate themselves from their neighbors, from the Great Wall of China through the Berlin Wall right up to the barrier that today divides Israel from the Palestinians on the West Bank.\\n\\nThe United States has debated putting up security barriers of its own along the Southwest border and has spent billions of dollars in recent years fencing one-third of it.\\n\\nNow, Donald Trump is proposing to go even further, vowing to build a massive, impenetrable wall along the U.S.-Mexico frontier to keep out illegal Mexican migrants. \\n\\n\\u201cBuilding a wall is easy, and it can be done inexpensively,\\u201d the Republican presidential candidate said in an interview. \\u201cIt\\u2019s not even a difficult project if you know what you\\u2019re doing.\\u2019\\u2019\\n\\nThe wall has become the signature proposal of Trump\\u2019s campaign, which has stirred widespread controversy over its focus on illegal immigration and his comments about immigrants.\\n\\nAny wall-building effort would cost billions of dollars and encounter a variety of obstacles, according to experts, documents and federal officials, including some of the same difficulties that bedeviled the federal government as it spent more than $7 billion on border fencing. The hurdles include environmental and engineering problems; fights with ranchers and others who don\\u2019t want to give up their land; and the huge topographical challenges of the border, which runs through remote desert in Arizona to rugged mountains in New Mexico and, for two-thirds of its length, along rivers.\\n\\n\\u201cIt\\u2019s extremely challenging to put a brick-and-mortar wall along the Southwest border for any number of reasons,\\u201d said Richard Stana, who wrote multiple reports on border security for the nonpartisan Government Accountability Office before retiring in 2011. \\u201cIt seems very simplistic.\\u201d\\n\\nIf such a barrier could be erected, experts and government officials agreed that making it impenetrable would be virtually impossible, as is completely securing the entire 1,954-mile border. The Department of Homeland Security is already spending millions of dollars a year to maintain existing fences and to repair breaches, according to government reports and officials, while drug traffickers and smugglers are increasingly using tunnels to pass underneath.\\n\\nWhile a wall along much of the border might theoretically be possible, said Thad Bingel, a former senior U.S. Customs and Border Protection official, \\u201cis it desirable? At what cost, and what do you give up to pay for that?\\u2019\\u2019\\n\\nBingel \\u2014 who was involved in border fence-building during the George W. Bush administration and is now a partner at Command Consulting Group in Washington \\u2014 added: \\u201cEvery wall can be circumvented. People can go under it, they can go over it. .\\u2009.\\u2009. No one should go into this with the idea that if you just build the right kind of wall, no one will get through.\\u2019\\u2019\\n\\nTrump disputed that, saying that a wall \\u201cwould be very effective\\u201d in deterring illegal migrants and that seismic and other equipment could detect and stop any underground tunnels. \\u201cA wall is better than fencing, and it\\u2019s much more powerful,\\u201d he said. \\u201cIt\\u2019s more secure. It\\u2019s taller.\\u201d\\n\\nThe veteran builder acknowledged that environmental impact studies would be difficult but said he is the one person who can rise to the challenge. \\u201cI\\u2019m considered a great builder, by everybody,\\u201d he said, adding that cost is irrelevant because he would force Mexico to pay for the structure. Asked whether that was realistic, Trump said: \\u201cIt\\u2019s realistic if you know something about the art of negotiating. If you have a bunch of clowns negotiating, it\\u2019s not realistic.\\u201d\\n\\nTrump has emerged as a leading GOP candidate partly because of his strong statements about immigration, which have included describing Mexicans entering the country illegally as \\u201crapists\\u201d and \\u201cmurderers.\\u201d He has suggested at times that his proposed wall would be extensive and would cover nearly the entire border, but said in the interview: \\u201cYou don\\u2019t have to build it in every location. There would be some locations where you would have guards, where you don\\u2019t need it because the topography acts as its own wall, whether that\\u2019s water or very rough terrain.\\u201d\\n\\n[Univision cuts ties with Trump over comments about Mexican immigrants]\\n\\nThe concept of a wall or fence along virtually the entire border has bubbled up occasionally in the nation\\u2019s immigration debate, with some Republicans supporting the idea. Today, there are more than 45 such walls and border fences worldwide, perhaps most prominently Israel\\u2019s West Bank barrier.\\n\\nWhile Israeli officials say it has reduced attacks, security specialists say that barrier, slated to be more than 400 miles long when finished, is not comparable to what would be required along the far more extensive U.S. Southwest border. The Israelis, they add, supplement the physical concrete barrier with a mix of border police and technology, much as the Department of Homeland Security does in the United States.\\n\\nThe U.S. government began building border fencing near San Diego in 1990. As DHS cracked down on illegal immigration after the Sept. 11, 2001, attacks, President George W. Bush dramatically expanded the effort. Spending on border fencing and related infrastructure such as lighting shot up from $298 million in 2006 to $1.5 billion the following year, according to the nonpartisan Congressional Research Service.\\n\\nOverall, more than $7 billion has been spent to build what is now almost 653 miles of Southwest border fencing \\u2014 costing nearly $5 million per mile in some spots \\u2014 nearly half in Arizona.\\n\\nThe costs could rise substantially if extensive new fencing was built, since it would be in increasingly remote regions without roads and in mountainous terrain, said Marc Rosenblum, deputy director of the U.S. immigration policy program at the Migration Policy Institute. Adding even more to the expense, he said, would be acquiring private land near the border and maintaining existing fencing.\\n\\nTrump\\u2019s wall would probably cost far more than fencing, Stana said, given the greater needs for construction materials and labor.\\n\\nWhile current and former DHS officials say the fencing has been effective in deterring illegal immigration, they say it is only one part of a broader border strategy that includes expanded sensors, drones and other technology, along with growing numbers of Border Patrol officers.\\n\\n\\u201cOur southern border is a mixture of winding river, desert and mountains. Simply building more fences is not the answer,\\u201d DHS Secretary Jeh Johnson said in an October speech.\\n\\nThe government\\u2019s difficulties in erecting fences highlight the challenges of building a wall, experts said. The fencing mandated by Congress in 2006 was beset by delays, surging construction costs and disputes with private property owners, mostly in Texas, DHS officials have said. The biggest failure was the virtual fence, a Bush administration effort to cover the border with a high-tech surveillance system.\\n\\n\\u201cIt\\u2019s a huge effort to construct anything at the border,\\u201d said one DHS official, who has worked in Republican and Democratic administrations and spoke on the condition of anonymity because Trump\\u2019s plan is part of a political campaign. \\u201cYou have lots of requirements to do construction: the environmental piece, engineering assessments. And a private landowner might not want fencing.\\u201d\\n\\nWayne Cornelius, director of the Mexican migration field research program at the University of California at San Diego, called Trump\\u2019s proposal \\u201cludicrous. .\\u2009.\\u2009. Any physical barrier can be tunneled under or climbed over or gotten around. There will always be gaps, and smugglers and migrants will seek out those gaps and go through.\\u201d\\n\\nRobert Costa and Alice Crites contributed to this story.\",\n          \"WASHINGTON (Reuters) - U.S. presidential candidate Bernie Sanders, who has made income inequality a top campaign theme, had taxable income of $205,271 in 2014, putting him almost in the top 5 percent of American earners, according to the release of Friday of his federal tax return. That figure was still far below the millions earned by his main Democratic rival, Hillary Clinton, in recent years.  Sanders and his wife, Jane, paid $27,653 in federal income taxes in 2014, an effective federal tax rate of 13.5 percent, on income of $205,271, which is their adjusted gross income before deductions. That figure is just below the $206,563 that Census data show as the lower limit for the top 5 percent of U.S. households in 2014. But Hillary Clinton and her husband, former President Bill Clinton, had income approaching $140 million over the last eight years, according to previously released returns. Sanders on Thursday described himself as \\u201cone of the poorer members of the United States Senate.\\u201d     Median net worth among members of the U.S. Senate in 2014 stood at $2.9 million, according to the Center for Responsive Politics, a non-profit organization that tracks money in politics. The return released on Friday does not include information on Sanders\\u2019 net worth. The return does show Sanders had federal taxable income after deductions of $140,994.  Sanders has run a populist effort, vowing to reform what he calls a \\u201ccorrupt\\u201d campaign finance system reliant on millionaires and billionaires at the expense of average voters. Clinton, in contrast, has much stronger ties to the financial system, including six-figure payments for speeches she gave to several financial institutions in recent years.  Sanders often expresses skepticism that someone with those kinds of ties can effectively overhaul banks and other institutions. Clinton says she is steadfast in her commitment to eroding income inequality and creating a safe financial system.     The two have clashed repeatedly over the topic - most recently Thursday night at a debate in the New York City borough of Brooklyn. At that event, Sanders promised to release his tax returns after Clinton raised the issue. \\u201cYou\\u2019ll get them, yes,\\u201d Sanders said. \\u201cThey are very boring tax returns. No big money from speeches, no major investments. Unfortunately - unfortunately - I remain one of the poorer members of the United States Senate.\\u201d Clinton has a significant lead in pledged delegates over Sanders in the race for the Democratic nomination for the November presidential election. \"\n        ],\n        \"semantic_type\": \"\",\n        \"description\": \"\"\n      }\n    }\n  ]\n}"
            }
          },
          "metadata": {},
          "execution_count": 23
        }
      ]
    },
    {
      "cell_type": "markdown",
      "source": [
        "# Cleaning Text"
      ],
      "metadata": {
        "id": "ZNJJarJw7rBB"
      }
    },
    {
      "cell_type": "code",
      "source": [
        "import re\n",
        "from nltk.corpus import stopwords\n",
        "from nltk.stem import WordNetLemmatizer\n",
        "from nltk.stem import PorterStemmer\n",
        "\n",
        "lm=WordNetLemmatizer()\n",
        "ps=PorterStemmer()\n",
        "\n",
        "corpus=[]\n",
        "for i in range(len(messages)):\n",
        "  review=re.sub('[^a-zA-Z0-9]',' ',messages['title'][i])\n",
        "  review=review.lower()\n",
        "  review=review.split()\n",
        "\n",
        "  review= [lm.lemmatize(x) for x in review if x not in stopwords.words('english')]\n",
        "  review=\" \".join(review)\n",
        "  corpus.append(review)\n",
        "\n"
      ],
      "metadata": {
        "id": "N20PnLK37TFe"
      },
      "execution_count": 31,
      "outputs": []
    },
    {
      "cell_type": "code",
      "source": [
        "corpus[0:10]"
      ],
      "metadata": {
        "colab": {
          "base_uri": "https://localhost:8080/"
        },
        "id": "VYRoGZYdKLds",
        "outputId": "4977d224-56a6-4f90-c8d6-7ba7126254e2"
      },
      "execution_count": 32,
      "outputs": [
        {
          "output_type": "execute_result",
          "data": {
            "text/plain": [
              "['indonesia foreign minister fly bangladesh myanmar visit rohingya',\n",
              " 'islamic state claim responsibility suicide attack southern iraq amaq',\n",
              " 'senator seek explanation career u prosecutor abrupt resignation',\n",
              " 'trump tap retired general tv analyst nsc post',\n",
              " 'obama eu envoy say brexiteer farage misleading trump',\n",
              " 'u senate panel suspends rule back price mnuchin cabinet',\n",
              " 'canadian boy stripped bowling title color pant breitbart',\n",
              " 'trump make day trip washington vacation white house',\n",
              " 'jay h lehr beginning end epa',\n",
              " 'u derivative regulator split white house budget']"
            ]
          },
          "metadata": {},
          "execution_count": 32
        }
      ]
    },
    {
      "cell_type": "code",
      "source": [
        "print(sum(len(sentence.split()) for sentence in corpus))"
      ],
      "metadata": {
        "colab": {
          "base_uri": "https://localhost:8080/"
        },
        "id": "YrH797AMKwXe",
        "outputId": "1a50f496-f51b-456f-e330-983deded945b"
      },
      "execution_count": 33,
      "outputs": [
        {
          "output_type": "stream",
          "name": "stdout",
          "text": [
            "90883\n"
          ]
        }
      ]
    },
    {
      "cell_type": "code",
      "source": [
        "max_length= max(len(sentence.split()) for sentence in corpus)\n",
        "print(\"Maximum sentence length is :\",max_length)"
      ],
      "metadata": {
        "colab": {
          "base_uri": "https://localhost:8080/"
        },
        "id": "FdpR1Cn1MKFN",
        "outputId": "eb5a20dc-0fb3-48d0-bb48-566769cd957d"
      },
      "execution_count": 34,
      "outputs": [
        {
          "output_type": "stream",
          "name": "stdout",
          "text": [
            "Maximum sentence length is : 29\n"
          ]
        }
      ]
    },
    {
      "cell_type": "code",
      "source": [
        "len(corpus)"
      ],
      "metadata": {
        "colab": {
          "base_uri": "https://localhost:8080/"
        },
        "id": "Toto7ssJM3UY",
        "outputId": "3cc0a2bf-122b-4192-d50a-cbed780d3636"
      },
      "execution_count": 35,
      "outputs": [
        {
          "output_type": "execute_result",
          "data": {
            "text/plain": [
              "9910"
            ]
          },
          "metadata": {},
          "execution_count": 35
        }
      ]
    },
    {
      "cell_type": "markdown",
      "source": [
        "TF-IDF Vectorization"
      ],
      "metadata": {
        "id": "fc_pCLq_M-t6"
      }
    },
    {
      "cell_type": "code",
      "source": [
        "tf= TfidfVectorizer(max_features=5000)\n",
        "x=tf.fit_transform(corpus).toarray()"
      ],
      "metadata": {
        "id": "2M_ic1SCM6JY"
      },
      "execution_count": 36,
      "outputs": []
    },
    {
      "cell_type": "code",
      "source": [
        "x[0]"
      ],
      "metadata": {
        "colab": {
          "base_uri": "https://localhost:8080/"
        },
        "id": "OW1lsdpEO9es",
        "outputId": "5bcde192-aa23-437f-9553-23e239e838e2"
      },
      "execution_count": 37,
      "outputs": [
        {
          "output_type": "execute_result",
          "data": {
            "text/plain": [
              "array([0., 0., 0., ..., 0., 0., 0.])"
            ]
          },
          "metadata": {},
          "execution_count": 37
        }
      ]
    },
    {
      "cell_type": "markdown",
      "source": [
        "# Splitting into train and test sets"
      ],
      "metadata": {
        "id": "-U9W1Up5PoEe"
      }
    },
    {
      "cell_type": "code",
      "source": [
        "X_train,X_test,y_train,y_test= train_test_split(x,y,test_size=0.2,random_state=42,stratify=y)\n"
      ],
      "metadata": {
        "id": "ty2yBRyqPskt"
      },
      "execution_count": 38,
      "outputs": []
    },
    {
      "cell_type": "code",
      "source": [
        "from sklearn.ensemble import RandomForestClassifier\n",
        "\n",
        "rf=RandomForestClassifier()\n",
        "rf.fit(X_train,y_train)"
      ],
      "metadata": {
        "colab": {
          "base_uri": "https://localhost:8080/",
          "height": 80
        },
        "id": "dt7JvaMuQGnw",
        "outputId": "11d79f27-e2e9-40a7-b36a-f5edcf77770b"
      },
      "execution_count": 39,
      "outputs": [
        {
          "output_type": "execute_result",
          "data": {
            "text/plain": [
              "RandomForestClassifier()"
            ],
            "text/html": [
              "<style>#sk-container-id-1 {\n",
              "  /* Definition of color scheme common for light and dark mode */\n",
              "  --sklearn-color-text: #000;\n",
              "  --sklearn-color-text-muted: #666;\n",
              "  --sklearn-color-line: gray;\n",
              "  /* Definition of color scheme for unfitted estimators */\n",
              "  --sklearn-color-unfitted-level-0: #fff5e6;\n",
              "  --sklearn-color-unfitted-level-1: #f6e4d2;\n",
              "  --sklearn-color-unfitted-level-2: #ffe0b3;\n",
              "  --sklearn-color-unfitted-level-3: chocolate;\n",
              "  /* Definition of color scheme for fitted estimators */\n",
              "  --sklearn-color-fitted-level-0: #f0f8ff;\n",
              "  --sklearn-color-fitted-level-1: #d4ebff;\n",
              "  --sklearn-color-fitted-level-2: #b3dbfd;\n",
              "  --sklearn-color-fitted-level-3: cornflowerblue;\n",
              "\n",
              "  /* Specific color for light theme */\n",
              "  --sklearn-color-text-on-default-background: var(--sg-text-color, var(--theme-code-foreground, var(--jp-content-font-color1, black)));\n",
              "  --sklearn-color-background: var(--sg-background-color, var(--theme-background, var(--jp-layout-color0, white)));\n",
              "  --sklearn-color-border-box: var(--sg-text-color, var(--theme-code-foreground, var(--jp-content-font-color1, black)));\n",
              "  --sklearn-color-icon: #696969;\n",
              "\n",
              "  @media (prefers-color-scheme: dark) {\n",
              "    /* Redefinition of color scheme for dark theme */\n",
              "    --sklearn-color-text-on-default-background: var(--sg-text-color, var(--theme-code-foreground, var(--jp-content-font-color1, white)));\n",
              "    --sklearn-color-background: var(--sg-background-color, var(--theme-background, var(--jp-layout-color0, #111)));\n",
              "    --sklearn-color-border-box: var(--sg-text-color, var(--theme-code-foreground, var(--jp-content-font-color1, white)));\n",
              "    --sklearn-color-icon: #878787;\n",
              "  }\n",
              "}\n",
              "\n",
              "#sk-container-id-1 {\n",
              "  color: var(--sklearn-color-text);\n",
              "}\n",
              "\n",
              "#sk-container-id-1 pre {\n",
              "  padding: 0;\n",
              "}\n",
              "\n",
              "#sk-container-id-1 input.sk-hidden--visually {\n",
              "  border: 0;\n",
              "  clip: rect(1px 1px 1px 1px);\n",
              "  clip: rect(1px, 1px, 1px, 1px);\n",
              "  height: 1px;\n",
              "  margin: -1px;\n",
              "  overflow: hidden;\n",
              "  padding: 0;\n",
              "  position: absolute;\n",
              "  width: 1px;\n",
              "}\n",
              "\n",
              "#sk-container-id-1 div.sk-dashed-wrapped {\n",
              "  border: 1px dashed var(--sklearn-color-line);\n",
              "  margin: 0 0.4em 0.5em 0.4em;\n",
              "  box-sizing: border-box;\n",
              "  padding-bottom: 0.4em;\n",
              "  background-color: var(--sklearn-color-background);\n",
              "}\n",
              "\n",
              "#sk-container-id-1 div.sk-container {\n",
              "  /* jupyter's `normalize.less` sets `[hidden] { display: none; }`\n",
              "     but bootstrap.min.css set `[hidden] { display: none !important; }`\n",
              "     so we also need the `!important` here to be able to override the\n",
              "     default hidden behavior on the sphinx rendered scikit-learn.org.\n",
              "     See: https://github.com/scikit-learn/scikit-learn/issues/21755 */\n",
              "  display: inline-block !important;\n",
              "  position: relative;\n",
              "}\n",
              "\n",
              "#sk-container-id-1 div.sk-text-repr-fallback {\n",
              "  display: none;\n",
              "}\n",
              "\n",
              "div.sk-parallel-item,\n",
              "div.sk-serial,\n",
              "div.sk-item {\n",
              "  /* draw centered vertical line to link estimators */\n",
              "  background-image: linear-gradient(var(--sklearn-color-text-on-default-background), var(--sklearn-color-text-on-default-background));\n",
              "  background-size: 2px 100%;\n",
              "  background-repeat: no-repeat;\n",
              "  background-position: center center;\n",
              "}\n",
              "\n",
              "/* Parallel-specific style estimator block */\n",
              "\n",
              "#sk-container-id-1 div.sk-parallel-item::after {\n",
              "  content: \"\";\n",
              "  width: 100%;\n",
              "  border-bottom: 2px solid var(--sklearn-color-text-on-default-background);\n",
              "  flex-grow: 1;\n",
              "}\n",
              "\n",
              "#sk-container-id-1 div.sk-parallel {\n",
              "  display: flex;\n",
              "  align-items: stretch;\n",
              "  justify-content: center;\n",
              "  background-color: var(--sklearn-color-background);\n",
              "  position: relative;\n",
              "}\n",
              "\n",
              "#sk-container-id-1 div.sk-parallel-item {\n",
              "  display: flex;\n",
              "  flex-direction: column;\n",
              "}\n",
              "\n",
              "#sk-container-id-1 div.sk-parallel-item:first-child::after {\n",
              "  align-self: flex-end;\n",
              "  width: 50%;\n",
              "}\n",
              "\n",
              "#sk-container-id-1 div.sk-parallel-item:last-child::after {\n",
              "  align-self: flex-start;\n",
              "  width: 50%;\n",
              "}\n",
              "\n",
              "#sk-container-id-1 div.sk-parallel-item:only-child::after {\n",
              "  width: 0;\n",
              "}\n",
              "\n",
              "/* Serial-specific style estimator block */\n",
              "\n",
              "#sk-container-id-1 div.sk-serial {\n",
              "  display: flex;\n",
              "  flex-direction: column;\n",
              "  align-items: center;\n",
              "  background-color: var(--sklearn-color-background);\n",
              "  padding-right: 1em;\n",
              "  padding-left: 1em;\n",
              "}\n",
              "\n",
              "\n",
              "/* Toggleable style: style used for estimator/Pipeline/ColumnTransformer box that is\n",
              "clickable and can be expanded/collapsed.\n",
              "- Pipeline and ColumnTransformer use this feature and define the default style\n",
              "- Estimators will overwrite some part of the style using the `sk-estimator` class\n",
              "*/\n",
              "\n",
              "/* Pipeline and ColumnTransformer style (default) */\n",
              "\n",
              "#sk-container-id-1 div.sk-toggleable {\n",
              "  /* Default theme specific background. It is overwritten whether we have a\n",
              "  specific estimator or a Pipeline/ColumnTransformer */\n",
              "  background-color: var(--sklearn-color-background);\n",
              "}\n",
              "\n",
              "/* Toggleable label */\n",
              "#sk-container-id-1 label.sk-toggleable__label {\n",
              "  cursor: pointer;\n",
              "  display: flex;\n",
              "  width: 100%;\n",
              "  margin-bottom: 0;\n",
              "  padding: 0.5em;\n",
              "  box-sizing: border-box;\n",
              "  text-align: center;\n",
              "  align-items: start;\n",
              "  justify-content: space-between;\n",
              "  gap: 0.5em;\n",
              "}\n",
              "\n",
              "#sk-container-id-1 label.sk-toggleable__label .caption {\n",
              "  font-size: 0.6rem;\n",
              "  font-weight: lighter;\n",
              "  color: var(--sklearn-color-text-muted);\n",
              "}\n",
              "\n",
              "#sk-container-id-1 label.sk-toggleable__label-arrow:before {\n",
              "  /* Arrow on the left of the label */\n",
              "  content: \"▸\";\n",
              "  float: left;\n",
              "  margin-right: 0.25em;\n",
              "  color: var(--sklearn-color-icon);\n",
              "}\n",
              "\n",
              "#sk-container-id-1 label.sk-toggleable__label-arrow:hover:before {\n",
              "  color: var(--sklearn-color-text);\n",
              "}\n",
              "\n",
              "/* Toggleable content - dropdown */\n",
              "\n",
              "#sk-container-id-1 div.sk-toggleable__content {\n",
              "  max-height: 0;\n",
              "  max-width: 0;\n",
              "  overflow: hidden;\n",
              "  text-align: left;\n",
              "  /* unfitted */\n",
              "  background-color: var(--sklearn-color-unfitted-level-0);\n",
              "}\n",
              "\n",
              "#sk-container-id-1 div.sk-toggleable__content.fitted {\n",
              "  /* fitted */\n",
              "  background-color: var(--sklearn-color-fitted-level-0);\n",
              "}\n",
              "\n",
              "#sk-container-id-1 div.sk-toggleable__content pre {\n",
              "  margin: 0.2em;\n",
              "  border-radius: 0.25em;\n",
              "  color: var(--sklearn-color-text);\n",
              "  /* unfitted */\n",
              "  background-color: var(--sklearn-color-unfitted-level-0);\n",
              "}\n",
              "\n",
              "#sk-container-id-1 div.sk-toggleable__content.fitted pre {\n",
              "  /* unfitted */\n",
              "  background-color: var(--sklearn-color-fitted-level-0);\n",
              "}\n",
              "\n",
              "#sk-container-id-1 input.sk-toggleable__control:checked~div.sk-toggleable__content {\n",
              "  /* Expand drop-down */\n",
              "  max-height: 200px;\n",
              "  max-width: 100%;\n",
              "  overflow: auto;\n",
              "}\n",
              "\n",
              "#sk-container-id-1 input.sk-toggleable__control:checked~label.sk-toggleable__label-arrow:before {\n",
              "  content: \"▾\";\n",
              "}\n",
              "\n",
              "/* Pipeline/ColumnTransformer-specific style */\n",
              "\n",
              "#sk-container-id-1 div.sk-label input.sk-toggleable__control:checked~label.sk-toggleable__label {\n",
              "  color: var(--sklearn-color-text);\n",
              "  background-color: var(--sklearn-color-unfitted-level-2);\n",
              "}\n",
              "\n",
              "#sk-container-id-1 div.sk-label.fitted input.sk-toggleable__control:checked~label.sk-toggleable__label {\n",
              "  background-color: var(--sklearn-color-fitted-level-2);\n",
              "}\n",
              "\n",
              "/* Estimator-specific style */\n",
              "\n",
              "/* Colorize estimator box */\n",
              "#sk-container-id-1 div.sk-estimator input.sk-toggleable__control:checked~label.sk-toggleable__label {\n",
              "  /* unfitted */\n",
              "  background-color: var(--sklearn-color-unfitted-level-2);\n",
              "}\n",
              "\n",
              "#sk-container-id-1 div.sk-estimator.fitted input.sk-toggleable__control:checked~label.sk-toggleable__label {\n",
              "  /* fitted */\n",
              "  background-color: var(--sklearn-color-fitted-level-2);\n",
              "}\n",
              "\n",
              "#sk-container-id-1 div.sk-label label.sk-toggleable__label,\n",
              "#sk-container-id-1 div.sk-label label {\n",
              "  /* The background is the default theme color */\n",
              "  color: var(--sklearn-color-text-on-default-background);\n",
              "}\n",
              "\n",
              "/* On hover, darken the color of the background */\n",
              "#sk-container-id-1 div.sk-label:hover label.sk-toggleable__label {\n",
              "  color: var(--sklearn-color-text);\n",
              "  background-color: var(--sklearn-color-unfitted-level-2);\n",
              "}\n",
              "\n",
              "/* Label box, darken color on hover, fitted */\n",
              "#sk-container-id-1 div.sk-label.fitted:hover label.sk-toggleable__label.fitted {\n",
              "  color: var(--sklearn-color-text);\n",
              "  background-color: var(--sklearn-color-fitted-level-2);\n",
              "}\n",
              "\n",
              "/* Estimator label */\n",
              "\n",
              "#sk-container-id-1 div.sk-label label {\n",
              "  font-family: monospace;\n",
              "  font-weight: bold;\n",
              "  display: inline-block;\n",
              "  line-height: 1.2em;\n",
              "}\n",
              "\n",
              "#sk-container-id-1 div.sk-label-container {\n",
              "  text-align: center;\n",
              "}\n",
              "\n",
              "/* Estimator-specific */\n",
              "#sk-container-id-1 div.sk-estimator {\n",
              "  font-family: monospace;\n",
              "  border: 1px dotted var(--sklearn-color-border-box);\n",
              "  border-radius: 0.25em;\n",
              "  box-sizing: border-box;\n",
              "  margin-bottom: 0.5em;\n",
              "  /* unfitted */\n",
              "  background-color: var(--sklearn-color-unfitted-level-0);\n",
              "}\n",
              "\n",
              "#sk-container-id-1 div.sk-estimator.fitted {\n",
              "  /* fitted */\n",
              "  background-color: var(--sklearn-color-fitted-level-0);\n",
              "}\n",
              "\n",
              "/* on hover */\n",
              "#sk-container-id-1 div.sk-estimator:hover {\n",
              "  /* unfitted */\n",
              "  background-color: var(--sklearn-color-unfitted-level-2);\n",
              "}\n",
              "\n",
              "#sk-container-id-1 div.sk-estimator.fitted:hover {\n",
              "  /* fitted */\n",
              "  background-color: var(--sklearn-color-fitted-level-2);\n",
              "}\n",
              "\n",
              "/* Specification for estimator info (e.g. \"i\" and \"?\") */\n",
              "\n",
              "/* Common style for \"i\" and \"?\" */\n",
              "\n",
              ".sk-estimator-doc-link,\n",
              "a:link.sk-estimator-doc-link,\n",
              "a:visited.sk-estimator-doc-link {\n",
              "  float: right;\n",
              "  font-size: smaller;\n",
              "  line-height: 1em;\n",
              "  font-family: monospace;\n",
              "  background-color: var(--sklearn-color-background);\n",
              "  border-radius: 1em;\n",
              "  height: 1em;\n",
              "  width: 1em;\n",
              "  text-decoration: none !important;\n",
              "  margin-left: 0.5em;\n",
              "  text-align: center;\n",
              "  /* unfitted */\n",
              "  border: var(--sklearn-color-unfitted-level-1) 1pt solid;\n",
              "  color: var(--sklearn-color-unfitted-level-1);\n",
              "}\n",
              "\n",
              ".sk-estimator-doc-link.fitted,\n",
              "a:link.sk-estimator-doc-link.fitted,\n",
              "a:visited.sk-estimator-doc-link.fitted {\n",
              "  /* fitted */\n",
              "  border: var(--sklearn-color-fitted-level-1) 1pt solid;\n",
              "  color: var(--sklearn-color-fitted-level-1);\n",
              "}\n",
              "\n",
              "/* On hover */\n",
              "div.sk-estimator:hover .sk-estimator-doc-link:hover,\n",
              ".sk-estimator-doc-link:hover,\n",
              "div.sk-label-container:hover .sk-estimator-doc-link:hover,\n",
              ".sk-estimator-doc-link:hover {\n",
              "  /* unfitted */\n",
              "  background-color: var(--sklearn-color-unfitted-level-3);\n",
              "  color: var(--sklearn-color-background);\n",
              "  text-decoration: none;\n",
              "}\n",
              "\n",
              "div.sk-estimator.fitted:hover .sk-estimator-doc-link.fitted:hover,\n",
              ".sk-estimator-doc-link.fitted:hover,\n",
              "div.sk-label-container:hover .sk-estimator-doc-link.fitted:hover,\n",
              ".sk-estimator-doc-link.fitted:hover {\n",
              "  /* fitted */\n",
              "  background-color: var(--sklearn-color-fitted-level-3);\n",
              "  color: var(--sklearn-color-background);\n",
              "  text-decoration: none;\n",
              "}\n",
              "\n",
              "/* Span, style for the box shown on hovering the info icon */\n",
              ".sk-estimator-doc-link span {\n",
              "  display: none;\n",
              "  z-index: 9999;\n",
              "  position: relative;\n",
              "  font-weight: normal;\n",
              "  right: .2ex;\n",
              "  padding: .5ex;\n",
              "  margin: .5ex;\n",
              "  width: min-content;\n",
              "  min-width: 20ex;\n",
              "  max-width: 50ex;\n",
              "  color: var(--sklearn-color-text);\n",
              "  box-shadow: 2pt 2pt 4pt #999;\n",
              "  /* unfitted */\n",
              "  background: var(--sklearn-color-unfitted-level-0);\n",
              "  border: .5pt solid var(--sklearn-color-unfitted-level-3);\n",
              "}\n",
              "\n",
              ".sk-estimator-doc-link.fitted span {\n",
              "  /* fitted */\n",
              "  background: var(--sklearn-color-fitted-level-0);\n",
              "  border: var(--sklearn-color-fitted-level-3);\n",
              "}\n",
              "\n",
              ".sk-estimator-doc-link:hover span {\n",
              "  display: block;\n",
              "}\n",
              "\n",
              "/* \"?\"-specific style due to the `<a>` HTML tag */\n",
              "\n",
              "#sk-container-id-1 a.estimator_doc_link {\n",
              "  float: right;\n",
              "  font-size: 1rem;\n",
              "  line-height: 1em;\n",
              "  font-family: monospace;\n",
              "  background-color: var(--sklearn-color-background);\n",
              "  border-radius: 1rem;\n",
              "  height: 1rem;\n",
              "  width: 1rem;\n",
              "  text-decoration: none;\n",
              "  /* unfitted */\n",
              "  color: var(--sklearn-color-unfitted-level-1);\n",
              "  border: var(--sklearn-color-unfitted-level-1) 1pt solid;\n",
              "}\n",
              "\n",
              "#sk-container-id-1 a.estimator_doc_link.fitted {\n",
              "  /* fitted */\n",
              "  border: var(--sklearn-color-fitted-level-1) 1pt solid;\n",
              "  color: var(--sklearn-color-fitted-level-1);\n",
              "}\n",
              "\n",
              "/* On hover */\n",
              "#sk-container-id-1 a.estimator_doc_link:hover {\n",
              "  /* unfitted */\n",
              "  background-color: var(--sklearn-color-unfitted-level-3);\n",
              "  color: var(--sklearn-color-background);\n",
              "  text-decoration: none;\n",
              "}\n",
              "\n",
              "#sk-container-id-1 a.estimator_doc_link.fitted:hover {\n",
              "  /* fitted */\n",
              "  background-color: var(--sklearn-color-fitted-level-3);\n",
              "}\n",
              "</style><div id=\"sk-container-id-1\" class=\"sk-top-container\"><div class=\"sk-text-repr-fallback\"><pre>RandomForestClassifier()</pre><b>In a Jupyter environment, please rerun this cell to show the HTML representation or trust the notebook. <br />On GitHub, the HTML representation is unable to render, please try loading this page with nbviewer.org.</b></div><div class=\"sk-container\" hidden><div class=\"sk-item\"><div class=\"sk-estimator fitted sk-toggleable\"><input class=\"sk-toggleable__control sk-hidden--visually\" id=\"sk-estimator-id-1\" type=\"checkbox\" checked><label for=\"sk-estimator-id-1\" class=\"sk-toggleable__label fitted sk-toggleable__label-arrow\"><div><div>RandomForestClassifier</div></div><div><a class=\"sk-estimator-doc-link fitted\" rel=\"noreferrer\" target=\"_blank\" href=\"https://scikit-learn.org/1.6/modules/generated/sklearn.ensemble.RandomForestClassifier.html\">?<span>Documentation for RandomForestClassifier</span></a><span class=\"sk-estimator-doc-link fitted\">i<span>Fitted</span></span></div></label><div class=\"sk-toggleable__content fitted\"><pre>RandomForestClassifier()</pre></div> </div></div></div></div>"
            ]
          },
          "metadata": {},
          "execution_count": 39
        }
      ]
    },
    {
      "cell_type": "code",
      "source": [
        "y_pred=rf.predict(X_test)\n"
      ],
      "metadata": {
        "id": "KrBX0wTLQshz"
      },
      "execution_count": 40,
      "outputs": []
    },
    {
      "cell_type": "code",
      "source": [
        "from sklearn.metrics import classification_report\n",
        "print(classification_report(y_test,y_pred,digits=4))"
      ],
      "metadata": {
        "colab": {
          "base_uri": "https://localhost:8080/"
        },
        "id": "feboqtCCQ0ow",
        "outputId": "6f96b313-80e8-4d8f-f775-a7bd25d8a8b6"
      },
      "execution_count": 41,
      "outputs": [
        {
          "output_type": "stream",
          "name": "stdout",
          "text": [
            "              precision    recall  f1-score   support\n",
            "\n",
            "           0     0.8396    0.8430    0.8413      1000\n",
            "           1     0.8395    0.8360    0.8378       982\n",
            "\n",
            "    accuracy                         0.8396      1982\n",
            "   macro avg     0.8396    0.8395    0.8395      1982\n",
            "weighted avg     0.8396    0.8396    0.8396      1982\n",
            "\n"
          ]
        }
      ]
    },
    {
      "cell_type": "code",
      "source": [
        "from sklearn.metrics import confusion_matrix\n",
        "\n",
        "cm=confusion_matrix(y_test,y_pred)\n",
        "plt.figure(figsize=(8,6))\n",
        "sns.heatmap(cm,annot=True,fmt=\"d\" ,cmap=\"Blues\" ,cbar=False, square=True)\n",
        "plt.xlabel('Predicted Class')\n",
        "plt.ylabel('Real Class')\n",
        "plt.show()"
      ],
      "metadata": {
        "colab": {
          "base_uri": "https://localhost:8080/",
          "height": 542
        },
        "id": "CeqkPGIhRTTT",
        "outputId": "14e28ffe-be17-4363-a6f0-417dd1311cc3"
      },
      "execution_count": 44,
      "outputs": [
        {
          "output_type": "display_data",
          "data": {
            "text/plain": [
              "<Figure size 800x600 with 1 Axes>"
            ],
            "image/png": "[encoded data removed]"
          },
          "metadata": {}
        }
      ]
    },
    {
      "cell_type": "code",
      "source": [
        "from sklearn.naive_bayes import MultinomialNB\n",
        "from sklearn.metrics import accuracy_score, precision_score, recall_score,f1_score, classification_report\n",
        "\n",
        "nb=MultinomialNB()\n",
        "nb.fit(X_train,y_train)\n",
        "y_pred_nb=nb.predict(X_test)\n",
        "accuracy=accuracy_score(y_test,y_pred_nb)\n",
        "precision=precision_score(y_test,y_pred_nb)\n",
        "recall=recall_score(y_test,y_pred_nb)\n",
        "f1=f1_score(y_test,y_pred_nb)\n",
        "\n",
        "print(\"multinomialNB model \")\n",
        "print(\"accuracy :\",accuracy)\n",
        "print(\"precision :\",precision)\n",
        "print(\"recall :\",recall)\n",
        "print(\"f1 :\",f1)"
      ],
      "metadata": {
        "colab": {
          "base_uri": "https://localhost:8080/"
        },
        "id": "VHRbp0racBUT",
        "outputId": "cbdc6fa6-1dee-4e6c-d3e1-3d6908e3fe5b"
      },
      "execution_count": 46,
      "outputs": [
        {
          "output_type": "stream",
          "name": "stdout",
          "text": [
            "multinomialNB model \n",
            "accuracy : 0.8511604439959637\n",
            "precision : 0.8713513513513513\n",
            "recall : 0.8207739307535642\n",
            "f1 : 0.8453067645516518\n"
          ]
        }
      ]
    },
    {
      "cell_type": "code",
      "source": [
        "from sklearn.linear_model import LogisticRegression\n",
        "from sklearn.svm import SVC\n",
        "from sklearn.neighbors import KNeighborsClassifier\n",
        "from sklearn.tree import DecisionTreeClassifier\n",
        "from sklearn.ensemble import GradientBoostingClassifier, AdaBoostClassifier, VotingClassifier\n",
        "from xgboost import XGBClassifier\n",
        "from sklearn.metrics import accuracy_score, precision_score, recall_score, f1_score\n",
        "\n",
        "\n",
        "def evaluate_model(model, X_train, y_train, X_test, y_test, model_name):\n",
        "    model.fit(X_train, y_train)\n",
        "    y_pred = model.predict(X_test)\n",
        "\n",
        "    accuracy = accuracy_score(y_test, y_pred)\n",
        "    precision = precision_score(y_test, y_pred)\n",
        "    recall = recall_score(y_test, y_pred)\n",
        "    f1 = f1_score(y_test, y_pred)\n",
        "\n",
        "    print(f\"{model_name} model \")\n",
        "    print(\"Accuracy :\", accuracy)\n",
        "    print(\"Precision :\", precision)\n",
        "    print(\"Recall :\", recall)\n",
        "    print(\"F1 Score :\", f1)\n",
        "\n",
        "lr = LogisticRegression()\n",
        "evaluate_model(lr, X_train, y_train, X_test, y_test, \"Logistic Regression\")\n",
        "\n",
        "\n",
        "svc = SVC()\n",
        "evaluate_model(svc, X_train, y_train, X_test, y_test, \"SVC\")\n",
        "\n",
        "\n",
        "knn = KNeighborsClassifier()\n",
        "evaluate_model(knn, X_train, y_train, X_test, y_test, \"KNN\")\n",
        "\n",
        "dt = DecisionTreeClassifier()\n",
        "evaluate_model(dt, X_train, y_train, X_test, y_test, \"Decision Tree\")\n",
        "\n",
        "gb = GradientBoostingClassifier()\n",
        "evaluate_model(gb, X_train, y_train, X_test, y_test, \"Gradient Boosting\")\n",
        "\n",
        "ada = AdaBoostClassifier()\n",
        "evaluate_model(ada, X_train, y_train, X_test, y_test, \"AdaBoost\")\n",
        "\n",
        "\n",
        "voting = VotingClassifier(estimators=[\n",
        "    ('lr', LogisticRegression()),\n",
        "    ('svc', SVC()),\n",
        "    ('knn', KNeighborsClassifier())\n",
        "], voting='hard')\n",
        "evaluate_model(voting, X_train, y_train, X_test, y_test, \"Voting Classifier\")\n",
        "\n",
        "\n",
        "xgb = XGBClassifier()\n",
        "evaluate_model(xgb, X_train, y_train, X_test, y_test, \"XGBoost\")"
      ],
      "metadata": {
        "colab": {
          "base_uri": "https://localhost:8080/"
        },
        "id": "3WGa-S0DnMxl",
        "outputId": "6aedf64e-bd50-4d9f-8f71-ab7ecbb478c2"
      },
      "execution_count": 47,
      "outputs": [
        {
          "output_type": "stream",
          "name": "stdout",
          "text": [
            "Logistic Regression model \n",
            "Accuracy : 0.8592330978809284\n",
            "Precision : 0.8672936259143156\n",
            "Recall : 0.845213849287169\n",
            "F1 Score : 0.8561113976276431\n",
            "--------------------------------------------------\n",
            "SVC model \n",
            "Accuracy : 0.863773965691221\n",
            "Precision : 0.8716075156576201\n",
            "Recall : 0.8503054989816701\n",
            "F1 Score : 0.8608247422680413\n",
            "--------------------------------------------------\n",
            "KNN model \n",
            "Accuracy : 0.5045408678102926\n",
            "Precision : 0.5\n",
            "Recall : 1.0\n",
            "F1 Score : 0.6666666666666666\n",
            "--------------------------------------------------\n",
            "Decision Tree model \n",
            "Accuracy : 0.79313824419778\n",
            "Precision : 0.8004201680672269\n",
            "Recall : 0.7759674134419552\n",
            "F1 Score : 0.7880041365046536\n",
            "--------------------------------------------------\n",
            "Gradient Boosting model \n",
            "Accuracy : 0.7921291624621595\n",
            "Precision : 0.7526595744680851\n",
            "Recall : 0.8645621181262729\n",
            "F1 Score : 0.804739336492891\n",
            "--------------------------------------------------\n",
            "AdaBoost model \n",
            "Accuracy : 0.6892028254288597\n",
            "Precision : 0.9463414634146341\n",
            "Recall : 0.395112016293279\n",
            "F1 Score : 0.5574712643678161\n",
            "--------------------------------------------------\n",
            "Voting Classifier model \n",
            "Accuracy : 0.8627648839556004\n",
            "Precision : 0.8600405679513184\n",
            "Recall : 0.8635437881873728\n",
            "F1 Score : 0.8617886178861789\n",
            "--------------------------------------------------\n",
            "XGBoost model \n",
            "Accuracy : 0.8229061553985872\n",
            "Precision : 0.8036573628488932\n",
            "Recall : 0.8503054989816701\n",
            "F1 Score : 0.8263236021771401\n",
            "--------------------------------------------------\n"
          ]
        }
      ]
    },
    {
      "cell_type": "code",
      "source": [
        "from sklearn.ensemble import StackingClassifier\n",
        "\n",
        "base_models=[\n",
        "    ('lr',lr),\n",
        "    ('knn',knn),\n",
        "    ('dt',dt),\n",
        "    ('gb',gb),\n",
        "    ('ada',ada)\n",
        "]\n",
        "\n",
        "meta_model=LogisticRegression()\n",
        "\n",
        "stacking_classifier=StackingClassifier(\n",
        "    estimators=base_models , final_estimator=meta_model\n",
        ")\n",
        "stacking_classifier.fit(X_train,y_train)\n",
        "y_pred_stack=stacking_classifier.predict(y_test)"
      ],
      "metadata": {
        "id": "pL58QNqzoTRF"
      },
      "execution_count": null,
      "outputs": []
    },
    {
      "cell_type": "code",
      "source": [
        "accuracy_stack = accuracy_score(y_test, y_pred_stack)\n",
        "precision_stack = precision_score(y_test, y_pred_stack)\n",
        "recall_stack = recall_score(y_test, y_pred_stack)\n",
        "f1_stack = f1_score(y_test, y_pred_stack)\n",
        "\n",
        "\n",
        "print(\"Accuracy :\", accuracy_stack)\n",
        "print(\"Precision :\", precision_stack)\n",
        "print(\"Recall :\", recall_stack)\n",
        "print(\"F1 Score :\", f1_stack)"
      ],
      "metadata": {
        "id": "g06MY6bEuB5z"
      },
      "execution_count": null,
      "outputs": []
    }
  ]
}